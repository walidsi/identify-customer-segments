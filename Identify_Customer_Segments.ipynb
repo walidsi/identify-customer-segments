{
 "cells": [
  {
   "cell_type": "markdown",
   "metadata": {},
   "source": [
    "# Project: Identify Customer Segments\n",
    "\n",
    "In this project, you will apply unsupervised learning techniques to identify segments of the population that form the core customer base for a mail-order sales company in Germany. These segments can then be used to direct marketing campaigns towards audiences that will have the highest expected rate of returns. The data that you will use has been provided by our partners at Bertelsmann Arvato Analytics, and represents a real-life data science task.\n",
    "\n",
    "This notebook will help you complete this task by providing a framework within which you will perform your analysis steps. In each step of the project, you will see some text describing the subtask that you will perform, followed by one or more code cells for you to complete your work. **Feel free to add additional code and markdown cells as you go along so that you can explore everything in precise chunks.** The code cells provided in the base template will outline only the major tasks, and will usually not be enough to cover all of the minor tasks that comprise it.\n",
    "\n",
    "It should be noted that while there will be precise guidelines on how you should handle certain tasks in the project, there will also be places where an exact specification is not provided. **There will be times in the project where you will need to make and justify your own decisions on how to treat the data.** These are places where there may not be only one way to handle the data. In real-life tasks, there may be many valid ways to approach an analysis task. One of the most important things you can do is clearly document your approach so that other scientists can understand the decisions you've made.\n",
    "\n",
    "At the end of most sections, there will be a Markdown cell labeled **Discussion**. In these cells, you will report your findings for the completed section, as well as document the decisions that you made in your approach to each subtask. **Your project will be evaluated not just on the code used to complete the tasks outlined, but also your communication about your observations and conclusions at each stage.**"
   ]
  },
  {
   "cell_type": "code",
   "execution_count": 85,
   "metadata": {},
   "outputs": [
    {
     "data": {
      "text/plain": [
       "'\\nImport note: The classroom currently uses sklearn version 0.19.\\nIf you need to use an imputer, it is available in sklearn.preprocessing.Imputer,\\ninstead of sklearn.impute as in newer versions of sklearn.\\n'"
      ]
     },
     "execution_count": 85,
     "metadata": {},
     "output_type": "execute_result"
    }
   ],
   "source": [
    "# import libraries here; add more as necessary\n",
    "import numpy as np\n",
    "import pandas as pd\n",
    "import matplotlib.pyplot as plt\n",
    "import seaborn as sns\n",
    "\n",
    "# magic word for producing visualizations in notebook\n",
    "%matplotlib inline\n",
    "\n",
    "'''\n",
    "Import note: The classroom currently uses sklearn version 0.19.\n",
    "If you need to use an imputer, it is available in sklearn.preprocessing.Imputer,\n",
    "instead of sklearn.impute as in newer versions of sklearn.\n",
    "'''\n"
   ]
  },
  {
   "cell_type": "markdown",
   "metadata": {},
   "source": [
    "### Step 0: Load the Data\n",
    "\n",
    "There are four files associated with this project (not including this one):\n",
    "\n",
    "- `Udacity_AZDIAS_Subset.csv`: Demographics data for the general population of Germany; 891211 persons (rows) x 85 features (columns).\n",
    "- `Udacity_CUSTOMERS_Subset.csv`: Demographics data for customers of a mail-order company; 191652 persons (rows) x 85 features (columns).\n",
    "- `Data_Dictionary.md`: Detailed information file about the features in the provided datasets.\n",
    "- `AZDIAS_Feature_Summary.csv`: Summary of feature attributes for demographics data; 85 features (rows) x 4 columns\n",
    "\n",
    "Each row of the demographics files represents a single person, but also includes information outside of individuals, including information about their household, building, and neighborhood. You will use this information to cluster the general population into groups with similar demographic properties. Then, you will see how the people in the customers dataset fit into those created clusters. The hope here is that certain clusters are over-represented in the customers data, as compared to the general population; those over-represented clusters will be assumed to be part of the core userbase. This information can then be used for further applications, such as targeting for a marketing campaign.\n",
    "\n",
    "To start off with, load in the demographics data for the general population into a pandas DataFrame, and do the same for the feature attributes summary. Note for all of the `.csv` data files in this project: they're semicolon (`;`) delimited, so you'll need an additional argument in your [`read_csv()`](https://pandas.pydata.org/pandas-docs/stable/generated/pandas.read_csv.html) call to read in the data properly. Also, considering the size of the main dataset, it may take some time for it to load completely.\n",
    "\n",
    "Once the dataset is loaded, it's recommended that you take a little bit of time just browsing the general structure of the dataset and feature summary file. You'll be getting deep into the innards of the cleaning in the first major step of the project, so gaining some general familiarity can help you get your bearings."
   ]
  },
  {
   "cell_type": "code",
   "execution_count": 86,
   "metadata": {},
   "outputs": [],
   "source": [
    "# Load in the general demographics data.\n",
    "azdias = pd.read_csv('Udacity_AZDIAS_Subset.csv', sep=';')\n",
    "\n",
    "# Load in the feature summary file.\n",
    "feat_info = pd.read_csv('AZDIAS_Feature_Summary.csv', sep=';')"
   ]
  },
  {
   "cell_type": "code",
   "execution_count": 87,
   "metadata": {},
   "outputs": [
    {
     "name": "stdout",
     "output_type": "stream",
     "text": [
      "(891221, 85)\n",
      "(85, 4)\n"
     ]
    }
   ],
   "source": [
    "# Check the structure of the data after it's loaded (e.g. print the number of\n",
    "# rows and columns, print the first few rows).\n",
    "\n",
    "print(azdias.shape)\n",
    "\n",
    "print(feat_info.shape)"
   ]
  },
  {
   "cell_type": "code",
   "execution_count": 88,
   "metadata": {},
   "outputs": [
    {
     "data": {
      "text/html": [
       "<div>\n",
       "<style scoped>\n",
       "    .dataframe tbody tr th:only-of-type {\n",
       "        vertical-align: middle;\n",
       "    }\n",
       "\n",
       "    .dataframe tbody tr th {\n",
       "        vertical-align: top;\n",
       "    }\n",
       "\n",
       "    .dataframe thead th {\n",
       "        text-align: right;\n",
       "    }\n",
       "</style>\n",
       "<table border=\"1\" class=\"dataframe\">\n",
       "  <thead>\n",
       "    <tr style=\"text-align: right;\">\n",
       "      <th></th>\n",
       "      <th>AGER_TYP</th>\n",
       "      <th>ALTERSKATEGORIE_GROB</th>\n",
       "      <th>ANREDE_KZ</th>\n",
       "      <th>CJT_GESAMTTYP</th>\n",
       "      <th>FINANZ_MINIMALIST</th>\n",
       "      <th>FINANZ_SPARER</th>\n",
       "      <th>FINANZ_VORSORGER</th>\n",
       "      <th>FINANZ_ANLEGER</th>\n",
       "      <th>FINANZ_UNAUFFAELLIGER</th>\n",
       "      <th>FINANZ_HAUSBAUER</th>\n",
       "      <th>...</th>\n",
       "      <th>PLZ8_ANTG1</th>\n",
       "      <th>PLZ8_ANTG2</th>\n",
       "      <th>PLZ8_ANTG3</th>\n",
       "      <th>PLZ8_ANTG4</th>\n",
       "      <th>PLZ8_BAUMAX</th>\n",
       "      <th>PLZ8_HHZ</th>\n",
       "      <th>PLZ8_GBZ</th>\n",
       "      <th>ARBEIT</th>\n",
       "      <th>ORTSGR_KLS9</th>\n",
       "      <th>RELAT_AB</th>\n",
       "    </tr>\n",
       "  </thead>\n",
       "  <tbody>\n",
       "    <tr>\n",
       "      <th>0</th>\n",
       "      <td>-1</td>\n",
       "      <td>2</td>\n",
       "      <td>1</td>\n",
       "      <td>2.0</td>\n",
       "      <td>3</td>\n",
       "      <td>4</td>\n",
       "      <td>3</td>\n",
       "      <td>5</td>\n",
       "      <td>5</td>\n",
       "      <td>3</td>\n",
       "      <td>...</td>\n",
       "      <td>NaN</td>\n",
       "      <td>NaN</td>\n",
       "      <td>NaN</td>\n",
       "      <td>NaN</td>\n",
       "      <td>NaN</td>\n",
       "      <td>NaN</td>\n",
       "      <td>NaN</td>\n",
       "      <td>NaN</td>\n",
       "      <td>NaN</td>\n",
       "      <td>NaN</td>\n",
       "    </tr>\n",
       "    <tr>\n",
       "      <th>1</th>\n",
       "      <td>-1</td>\n",
       "      <td>1</td>\n",
       "      <td>2</td>\n",
       "      <td>5.0</td>\n",
       "      <td>1</td>\n",
       "      <td>5</td>\n",
       "      <td>2</td>\n",
       "      <td>5</td>\n",
       "      <td>4</td>\n",
       "      <td>5</td>\n",
       "      <td>...</td>\n",
       "      <td>2.0</td>\n",
       "      <td>3.0</td>\n",
       "      <td>2.0</td>\n",
       "      <td>1.0</td>\n",
       "      <td>1.0</td>\n",
       "      <td>5.0</td>\n",
       "      <td>4.0</td>\n",
       "      <td>3.0</td>\n",
       "      <td>5.0</td>\n",
       "      <td>4.0</td>\n",
       "    </tr>\n",
       "    <tr>\n",
       "      <th>2</th>\n",
       "      <td>-1</td>\n",
       "      <td>3</td>\n",
       "      <td>2</td>\n",
       "      <td>3.0</td>\n",
       "      <td>1</td>\n",
       "      <td>4</td>\n",
       "      <td>1</td>\n",
       "      <td>2</td>\n",
       "      <td>3</td>\n",
       "      <td>5</td>\n",
       "      <td>...</td>\n",
       "      <td>3.0</td>\n",
       "      <td>3.0</td>\n",
       "      <td>1.0</td>\n",
       "      <td>0.0</td>\n",
       "      <td>1.0</td>\n",
       "      <td>4.0</td>\n",
       "      <td>4.0</td>\n",
       "      <td>3.0</td>\n",
       "      <td>5.0</td>\n",
       "      <td>2.0</td>\n",
       "    </tr>\n",
       "    <tr>\n",
       "      <th>3</th>\n",
       "      <td>2</td>\n",
       "      <td>4</td>\n",
       "      <td>2</td>\n",
       "      <td>2.0</td>\n",
       "      <td>4</td>\n",
       "      <td>2</td>\n",
       "      <td>5</td>\n",
       "      <td>2</td>\n",
       "      <td>1</td>\n",
       "      <td>2</td>\n",
       "      <td>...</td>\n",
       "      <td>2.0</td>\n",
       "      <td>2.0</td>\n",
       "      <td>2.0</td>\n",
       "      <td>0.0</td>\n",
       "      <td>1.0</td>\n",
       "      <td>3.0</td>\n",
       "      <td>4.0</td>\n",
       "      <td>2.0</td>\n",
       "      <td>3.0</td>\n",
       "      <td>3.0</td>\n",
       "    </tr>\n",
       "    <tr>\n",
       "      <th>4</th>\n",
       "      <td>-1</td>\n",
       "      <td>3</td>\n",
       "      <td>1</td>\n",
       "      <td>5.0</td>\n",
       "      <td>4</td>\n",
       "      <td>3</td>\n",
       "      <td>4</td>\n",
       "      <td>1</td>\n",
       "      <td>3</td>\n",
       "      <td>2</td>\n",
       "      <td>...</td>\n",
       "      <td>2.0</td>\n",
       "      <td>4.0</td>\n",
       "      <td>2.0</td>\n",
       "      <td>1.0</td>\n",
       "      <td>2.0</td>\n",
       "      <td>3.0</td>\n",
       "      <td>3.0</td>\n",
       "      <td>4.0</td>\n",
       "      <td>6.0</td>\n",
       "      <td>5.0</td>\n",
       "    </tr>\n",
       "  </tbody>\n",
       "</table>\n",
       "<p>5 rows × 85 columns</p>\n",
       "</div>"
      ],
      "text/plain": [
       "   AGER_TYP  ALTERSKATEGORIE_GROB  ANREDE_KZ  CJT_GESAMTTYP  \\\n",
       "0        -1                     2          1            2.0   \n",
       "1        -1                     1          2            5.0   \n",
       "2        -1                     3          2            3.0   \n",
       "3         2                     4          2            2.0   \n",
       "4        -1                     3          1            5.0   \n",
       "\n",
       "   FINANZ_MINIMALIST  FINANZ_SPARER  FINANZ_VORSORGER  FINANZ_ANLEGER  \\\n",
       "0                  3              4                 3               5   \n",
       "1                  1              5                 2               5   \n",
       "2                  1              4                 1               2   \n",
       "3                  4              2                 5               2   \n",
       "4                  4              3                 4               1   \n",
       "\n",
       "   FINANZ_UNAUFFAELLIGER  FINANZ_HAUSBAUER  ...  PLZ8_ANTG1  PLZ8_ANTG2  \\\n",
       "0                      5                 3  ...         NaN         NaN   \n",
       "1                      4                 5  ...         2.0         3.0   \n",
       "2                      3                 5  ...         3.0         3.0   \n",
       "3                      1                 2  ...         2.0         2.0   \n",
       "4                      3                 2  ...         2.0         4.0   \n",
       "\n",
       "   PLZ8_ANTG3  PLZ8_ANTG4  PLZ8_BAUMAX  PLZ8_HHZ  PLZ8_GBZ  ARBEIT  \\\n",
       "0         NaN         NaN          NaN       NaN       NaN     NaN   \n",
       "1         2.0         1.0          1.0       5.0       4.0     3.0   \n",
       "2         1.0         0.0          1.0       4.0       4.0     3.0   \n",
       "3         2.0         0.0          1.0       3.0       4.0     2.0   \n",
       "4         2.0         1.0          2.0       3.0       3.0     4.0   \n",
       "\n",
       "   ORTSGR_KLS9  RELAT_AB  \n",
       "0          NaN       NaN  \n",
       "1          5.0       4.0  \n",
       "2          5.0       2.0  \n",
       "3          3.0       3.0  \n",
       "4          6.0       5.0  \n",
       "\n",
       "[5 rows x 85 columns]"
      ]
     },
     "execution_count": 88,
     "metadata": {},
     "output_type": "execute_result"
    }
   ],
   "source": [
    "azdias.head()"
   ]
  },
  {
   "cell_type": "code",
   "execution_count": 89,
   "metadata": {},
   "outputs": [
    {
     "data": {
      "text/html": [
       "<div>\n",
       "<style scoped>\n",
       "    .dataframe tbody tr th:only-of-type {\n",
       "        vertical-align: middle;\n",
       "    }\n",
       "\n",
       "    .dataframe tbody tr th {\n",
       "        vertical-align: top;\n",
       "    }\n",
       "\n",
       "    .dataframe thead th {\n",
       "        text-align: right;\n",
       "    }\n",
       "</style>\n",
       "<table border=\"1\" class=\"dataframe\">\n",
       "  <thead>\n",
       "    <tr style=\"text-align: right;\">\n",
       "      <th></th>\n",
       "      <th>attribute</th>\n",
       "      <th>information_level</th>\n",
       "      <th>type</th>\n",
       "      <th>missing_or_unknown</th>\n",
       "    </tr>\n",
       "  </thead>\n",
       "  <tbody>\n",
       "    <tr>\n",
       "      <th>0</th>\n",
       "      <td>AGER_TYP</td>\n",
       "      <td>person</td>\n",
       "      <td>categorical</td>\n",
       "      <td>[-1,0]</td>\n",
       "    </tr>\n",
       "    <tr>\n",
       "      <th>1</th>\n",
       "      <td>ALTERSKATEGORIE_GROB</td>\n",
       "      <td>person</td>\n",
       "      <td>ordinal</td>\n",
       "      <td>[-1,0,9]</td>\n",
       "    </tr>\n",
       "    <tr>\n",
       "      <th>2</th>\n",
       "      <td>ANREDE_KZ</td>\n",
       "      <td>person</td>\n",
       "      <td>categorical</td>\n",
       "      <td>[-1,0]</td>\n",
       "    </tr>\n",
       "    <tr>\n",
       "      <th>3</th>\n",
       "      <td>CJT_GESAMTTYP</td>\n",
       "      <td>person</td>\n",
       "      <td>categorical</td>\n",
       "      <td>[0]</td>\n",
       "    </tr>\n",
       "    <tr>\n",
       "      <th>4</th>\n",
       "      <td>FINANZ_MINIMALIST</td>\n",
       "      <td>person</td>\n",
       "      <td>ordinal</td>\n",
       "      <td>[-1]</td>\n",
       "    </tr>\n",
       "  </tbody>\n",
       "</table>\n",
       "</div>"
      ],
      "text/plain": [
       "              attribute information_level         type missing_or_unknown\n",
       "0              AGER_TYP            person  categorical             [-1,0]\n",
       "1  ALTERSKATEGORIE_GROB            person      ordinal           [-1,0,9]\n",
       "2             ANREDE_KZ            person  categorical             [-1,0]\n",
       "3         CJT_GESAMTTYP            person  categorical                [0]\n",
       "4     FINANZ_MINIMALIST            person      ordinal               [-1]"
      ]
     },
     "execution_count": 89,
     "metadata": {},
     "output_type": "execute_result"
    }
   ],
   "source": [
    "feat_info.head()"
   ]
  },
  {
   "cell_type": "code",
   "execution_count": 90,
   "metadata": {},
   "outputs": [],
   "source": [
    "#azdias.info()"
   ]
  },
  {
   "cell_type": "markdown",
   "metadata": {},
   "source": [
    "**Tip**: Add additional cells to keep everything in reasonably-sized chunks! Keyboard shortcut `esc --> a` (press escape to enter command mode, then press the 'A' key) adds a new cell before the active cell, and `esc --> b` adds a new cell after the active cell. If you need to convert an active cell to a markdown cell, use `esc --> m` and to convert to a code cell, use `esc --> y`. "
   ]
  },
  {
   "cell_type": "markdown",
   "metadata": {},
   "source": [
    "## Step 1: Preprocessing\n",
    "\n",
    "### Step 1.1: Assess Missing Data\n",
    "\n",
    "The feature summary file contains a summary of properties for each demographics data column. You will use this file to help you make cleaning decisions during this stage of the project. First of all, you should assess the demographics data in terms of missing data. Pay attention to the following points as you perform your analysis, and take notes on what you observe. Make sure that you fill in the **Discussion** cell with your findings and decisions at the end of each step that has one!\n",
    "\n",
    "#### Step 1.1.1: Convert Missing Value Codes to NaNs\n",
    "The fourth column of the feature attributes summary (loaded in above as `feat_info`) documents the codes from the data dictionary that indicate missing or unknown data. While the file encodes this as a list (e.g. `[-1,0]`), this will get read in as a string object. You'll need to do a little bit of parsing to make use of it to identify and clean the data. Convert data that matches a 'missing' or 'unknown' value code into a numpy NaN value. You might want to see how much data takes on a 'missing' or 'unknown' code, and how much data is naturally missing, as a point of interest.\n",
    "\n",
    "**As one more reminder, you are encouraged to add additional cells to break up your analysis into manageable chunks.**"
   ]
  },
  {
   "cell_type": "code",
   "execution_count": 91,
   "metadata": {},
   "outputs": [
    {
     "data": {
      "text/plain": [
       "<AxesSubplot:title={'center':'Missing Values'}>"
      ]
     },
     "execution_count": 91,
     "metadata": {},
     "output_type": "execute_result"
    },
    {
     "data": {
      "image/png": "[encoded data removed]",
      "text/plain": [
       "<Figure size 1440x432 with 1 Axes>"
      ]
     },
     "metadata": {
      "needs_background": "light"
     },
     "output_type": "display_data"
    }
   ],
   "source": [
    "# How much data are naturally missing i.e. already NaN or Null or empty\n",
    "plt.figure(figsize=(20, 6))\n",
    "azdias.isnull().sum().plot(kind='bar', title=\"Missing Values\")"
   ]
  },
  {
   "cell_type": "code",
   "execution_count": 92,
   "metadata": {},
   "outputs": [],
   "source": [
    "# Identify missing or unknown data values and convert them to NaNs.\n",
    "\n",
    "# for each row in feat_info:\n",
    "#     read attribute and missing_or_unknown values\n",
    "#     convert missing_or_unknown string to a list\n",
    "#     For the attribute column in azdias, replace all occurances of the values in the list with NaN\n",
    "\n",
    "def convert_missing_to_nan(df: pd.DataFrame) -> pd.DataFrame:\n",
    "    \"\"\" Converts missing values in a dataframe to np.nan\n",
    "    \n",
    "    Args:\n",
    "        df: source dataframe\n",
    "        \n",
    "    Returns:\n",
    "        Source dataframe with missing values set to np.nan \n",
    "    \"\"\"\n",
    "    for index, row in feat_info.iterrows():\n",
    "        feat_name = row['attribute']\n",
    "        missing_or_unknown = row['missing_or_unknown']\n",
    "        missing_or_unknown_list = []\n",
    "        val = ''\n",
    "        for c in missing_or_unknown:\n",
    "            if c not in ['[', ']', ',']:\n",
    "                val += c\n",
    "            else:\n",
    "                if val != '':\n",
    "                    try:\n",
    "                        missing_or_unknown_list.append(int(val))\n",
    "                    except:\n",
    "                        missing_or_unknown_list.append(val)\n",
    "                    val = ''\n",
    "\n",
    "        #print(feat_name, missing_or_unknown_list)\n",
    "        df[feat_name].replace(to_replace=missing_or_unknown_list, value=np.nan, inplace=True)\n",
    "        \n",
    "    return df"
   ]
  },
  {
   "cell_type": "code",
   "execution_count": 93,
   "metadata": {},
   "outputs": [],
   "source": [
    "azdias = convert_missing_to_nan(azdias)"
   ]
  },
  {
   "cell_type": "markdown",
   "metadata": {},
   "source": [
    "#### Step 1.1.2: Assess Missing Data in Each Column\n",
    "\n",
    "How much missing data is present in each column? There are a few columns that are outliers in terms of the proportion of values that are missing. You will want to use matplotlib's [`hist()`](https://matplotlib.org/api/_as_gen/matplotlib.pyplot.hist.html) function to visualize the distribution of missing value counts to find these columns. Identify and document these columns. While some of these columns might have justifications for keeping or re-encoding the data, for this project you should just remove them from the dataframe. (Feel free to make remarks about these outlier columns in the discussion, however!)\n",
    "\n",
    "For the remaining features, are there any patterns in which columns have, or share, missing data?"
   ]
  },
  {
   "cell_type": "code",
   "execution_count": 94,
   "metadata": {},
   "outputs": [],
   "source": [
    "# Perform an assessment of how much missing data there is in each column of the\n",
    "# dataset.\n",
    "\n",
    "#azdias.isnull().sum()"
   ]
  },
  {
   "cell_type": "code",
   "execution_count": 95,
   "metadata": {},
   "outputs": [
    {
     "data": {
      "text/plain": [
       "<AxesSubplot:>"
      ]
     },
     "execution_count": 95,
     "metadata": {},
     "output_type": "execute_result"
    },
    {
     "data": {
      "image/png": "[encoded data removed]",
      "text/plain": [
       "<Figure size 1440x432 with 1 Axes>"
      ]
     },
     "metadata": {
      "needs_background": "light"
     },
     "output_type": "display_data"
    }
   ],
   "source": [
    "# Investigate patterns in the amount of missing data in each column.\n",
    "plt.figure(figsize=(20, 6))\n",
    "azdias.isnull().sum().plot(kind='bar')"
   ]
  },
  {
   "cell_type": "code",
   "execution_count": 96,
   "metadata": {},
   "outputs": [],
   "source": [
    "# Remove the outlier columns from the dataset. (You'll perform other data\n",
    "# engineering tasks such as re-encoding and imputation later.)\n",
    "\n",
    "# Remove columns where missing values are greater than 200,000 per column\n",
    "\n",
    "threshold = 200000\n",
    "outlier_columns = []\n",
    "\n",
    "for column in azdias.columns.values:\n",
    "    if azdias[column].isnull().sum() > threshold:\n",
    "        outlier_columns.append(column)"
   ]
  },
  {
   "cell_type": "code",
   "execution_count": 97,
   "metadata": {},
   "outputs": [
    {
     "name": "stdout",
     "output_type": "stream",
     "text": [
      "The following columnns have been removed: ['AGER_TYP', 'GEBURTSJAHR', 'TITEL_KZ', 'ALTER_HH', 'KK_KUNDENTYP', 'KBA05_BAUMAX']\n"
     ]
    }
   ],
   "source": [
    "def drop_outlier_columns(df: pd.DataFrame, outlier_columns: list) -> pd.DataFrame:\n",
    "    \"\"\"Drop outlier columns\n",
    "    \n",
    "    Args:\n",
    "        df: input dataframe\n",
    "        oultier_columns: list of columns to drop\n",
    "        \n",
    "    Return:\n",
    "        dataframe without specified columns\n",
    "    \n",
    "    \"\"\"\n",
    "    df.drop(outlier_columns, axis=1, inplace=True)\n",
    "\n",
    "    return df\n",
    "\n",
    "azdias = drop_outlier_columns(azdias, outlier_columns)\n",
    "\n",
    "print(\"The following columnns have been removed:\", outlier_columns)"
   ]
  },
  {
   "cell_type": "markdown",
   "metadata": {},
   "source": [
    "#### Discussion 1.1.2: Assess Missing Data in Each Column\n",
    "\n",
    "There is on average about 100k missing values in each column or about 12% of values. However, the following columns are significantly higher than the rest as seen in the plots above and as a result these columns have been dropped: **'AGER_TYP', 'GEBURTSJAHR', 'TITEL_KZ', 'ALTER_HH', 'KK_KUNDENTYP', 'KBA05_BAUMAX'**"
   ]
  },
  {
   "cell_type": "markdown",
   "metadata": {},
   "source": [
    "#### Step 1.1.3: Assess Missing Data in Each Row\n",
    "\n",
    "Now, you'll perform a similar assessment for the rows of the dataset. How much data is missing in each row? As with the columns, you should see some groups of points that have a very different numbers of missing values. Divide the data into two subsets: one for data points that are above some threshold for missing values, and a second subset for points below that threshold.\n",
    "\n",
    "In order to know what to do with the outlier rows, we should see if the distribution of data values on columns that are not missing data (or are missing very little data) are similar or different between the two groups. Select at least five of these columns and compare the distribution of values.\n",
    "- You can use seaborn's [`countplot()`](https://seaborn.pydata.org/generated/seaborn.countplot.html) function to create a bar chart of code frequencies and matplotlib's [`subplot()`](https://matplotlib.org/api/_as_gen/matplotlib.pyplot.subplot.html) function to put bar charts for the two subplots side by side.\n",
    "- To reduce repeated code, you might want to write a function that can perform this comparison, taking as one of its arguments a column to be compared.\n",
    "\n",
    "Depending on what you observe in your comparison, this will have implications on how you approach your conclusions later in the analysis. If the distributions of non-missing features look similar between the data with many missing values and the data with few or no missing values, then we could argue that simply dropping those points from the analysis won't present a major issue. On the other hand, if the data with many missing values looks very different from the data with few or no missing values, then we should make a note on those data as special. We'll revisit these data later on. **Either way, you should continue your analysis for now using just the subset of the data with few or no missing values.**"
   ]
  },
  {
   "cell_type": "code",
   "execution_count": 98,
   "metadata": {},
   "outputs": [
    {
     "data": {
      "text/plain": [
       "0         43\n",
       "1          0\n",
       "2          0\n",
       "3          7\n",
       "4          0\n",
       "          ..\n",
       "891216     3\n",
       "891217     4\n",
       "891218     5\n",
       "891219     0\n",
       "891220     0\n",
       "Length: 891221, dtype: int64"
      ]
     },
     "execution_count": 98,
     "metadata": {},
     "output_type": "execute_result"
    }
   ],
   "source": [
    "# How much data is missing in each row of the dataset?\n",
    "azdias.isnull().sum(axis=1)"
   ]
  },
  {
   "cell_type": "code",
   "execution_count": 99,
   "metadata": {},
   "outputs": [
    {
     "data": {
      "text/plain": [
       "count    891221.000000\n",
       "mean          5.649894\n",
       "std          13.234687\n",
       "min           0.000000\n",
       "25%           0.000000\n",
       "50%           0.000000\n",
       "75%           3.000000\n",
       "max          49.000000\n",
       "dtype: float64"
      ]
     },
     "execution_count": 99,
     "metadata": {},
     "output_type": "execute_result"
    }
   ],
   "source": [
    "# How much data is missing in each row of the dataset?\n",
    "azdias.isnull().sum(axis=1).describe()"
   ]
  },
  {
   "cell_type": "code",
   "execution_count": 100,
   "metadata": {},
   "outputs": [
    {
     "data": {
      "text/plain": [
       "Text(0.5, 0, 'Number of missing values per row')"
      ]
     },
     "execution_count": 100,
     "metadata": {},
     "output_type": "execute_result"
    },
    {
     "data": {
      "image/png": "[encoded data removed]",
      "text/plain": [
       "<Figure size 432x288 with 1 Axes>"
      ]
     },
     "metadata": {
      "needs_background": "light"
     },
     "output_type": "display_data"
    }
   ],
   "source": [
    "plt.figure()\n",
    "azdias.isnull().sum(axis=1).hist()\n",
    "plt.title(\"Distribution of rows with missing values\")\n",
    "plt.ylabel(\"Number of rows\")\n",
    "plt.xlabel(\"Number of missing values per row\")"
   ]
  },
  {
   "cell_type": "code",
   "execution_count": 101,
   "metadata": {},
   "outputs": [],
   "source": [
    "# Write code to divide the data into two subsets based on the number of missing\n",
    "# values in each row.\n",
    "\n",
    "threshold_missing = 10\n",
    "\n",
    "missing = azdias.isnull().sum(axis=1)\n",
    "\n",
    "azdias_subset1 = azdias[missing <= threshold_missing]\n",
    "azdias_subset2 = azdias[missing > threshold_missing]"
   ]
  },
  {
   "cell_type": "code",
   "execution_count": null,
   "metadata": {},
   "outputs": [],
   "source": []
  },
  {
   "cell_type": "code",
   "execution_count": null,
   "metadata": {},
   "outputs": [],
   "source": []
  },
  {
   "cell_type": "code",
   "execution_count": 102,
   "metadata": {},
   "outputs": [
    {
     "data": {
      "image/png": "[encoded data removed]",
      "text/plain": [
       "<Figure size 1152x1440 with 10 Axes>"
      ]
     },
     "metadata": {
      "needs_background": "light"
     },
     "output_type": "display_data"
    }
   ],
   "source": [
    "# Compare the distribution of values for at least five columns where there are\n",
    "# no or few missing values, between the two subsets.\n",
    "\n",
    "fig, axes = plt.subplots(nrows=5, ncols=2, figsize=(16, 20), sharey=True)\n",
    "\n",
    "columns = ['ZABEOTYP', 'HH_EINKOMMEN_SCORE', 'SEMIO_SOZ', 'SEMIO_REL', 'SEMIO_MAT']\n",
    "\n",
    "row = 0\n",
    "for col in columns:\n",
    "    title = col + \", row missing values <\" + str(threshold_missing)\n",
    "    azdias_subset1[col].plot(kind='hist', title=title, ax = axes[row, 0])\n",
    "    title = col + \", row missing values >=\" + str(threshold_missing)\n",
    "    azdias_subset2[col].plot(kind='hist', title=title, ax = axes[row, 1])\n",
    "    row += 1"
   ]
  },
  {
   "cell_type": "code",
   "execution_count": 103,
   "metadata": {},
   "outputs": [
    {
     "data": {
      "text/plain": [
       "(780153, 79)"
      ]
     },
     "execution_count": 103,
     "metadata": {},
     "output_type": "execute_result"
    }
   ],
   "source": [
    "azdias_subset1.shape"
   ]
  },
  {
   "cell_type": "code",
   "execution_count": 104,
   "metadata": {},
   "outputs": [],
   "source": [
    "def remove_rows_with_missing_values(df: pd.DataFrame) -> pd.DataFrame:\n",
    "    \"\"\"Removes all rows with missing values\n",
    "    \n",
    "    Args:\n",
    "        df: source dataframe\n",
    "        \n",
    "    Returns\n",
    "        dataframe without missing rows\n",
    "    \"\"\"\n",
    "    \n",
    "    missing = df.isnull().sum(axis=1)\n",
    "\n",
    "    #Continue using non-null rows only\n",
    "    df = df[missing == 0]\n",
    "    \n",
    "    return df.copy() #avoid SettingWithCopyWarning"
   ]
  },
  {
   "cell_type": "code",
   "execution_count": 105,
   "metadata": {},
   "outputs": [],
   "source": [
    "#assert(azdias.isnull().sum().sum() == 0)"
   ]
  },
  {
   "cell_type": "code",
   "execution_count": 106,
   "metadata": {},
   "outputs": [],
   "source": [
    "#azdias.shape"
   ]
  },
  {
   "cell_type": "code",
   "execution_count": 107,
   "metadata": {},
   "outputs": [],
   "source": [
    "# def convert_floats_to_ints(df: pd.DataFrame) -> pd.DataFrame:\n",
    "#     \"\"\"Convert float columns to int\n",
    "\n",
    "#     Args:\n",
    "#         df: source data frame\n",
    "\n",
    "#     Returns:\n",
    "#         source data frame with float columns converted to int\n",
    "#     \"\"\"\n",
    "\n",
    "#     float_cols = df.select_dtypes(include=['float64']) # This will select float columns only\n",
    "\n",
    "#     for column in float_cols:\n",
    "#         df.loc[:, column] = df[column].astype('int64')\n",
    "\n",
    "#     return df\n",
    "\n",
    "# #azdias = convert_floats_to_ints(azdias)"
   ]
  },
  {
   "cell_type": "markdown",
   "metadata": {},
   "source": [
    "#### Discussion 1.1.3: Assess Missing Data in Each Row\n",
    "\n",
    "As seen from above histogram plot of sum of missing values per row, more than 700,000 of the rows have less than 10 missing values per row of 79 features. We can also observe from the subplots above that the distribution for features differs for subset of rows with 10 or less missing values per row versus more than 10 missing values per row."
   ]
  },
  {
   "cell_type": "markdown",
   "metadata": {},
   "source": [
    "### Step 1.2: Select and Re-Encode Features\n",
    "\n",
    "Checking for missing data isn't the only way in which you can prepare a dataset for analysis. Since the unsupervised learning techniques to be used will only work on data that is encoded numerically, you need to make a few encoding changes or additional assumptions to be able to make progress. In addition, while almost all of the values in the dataset are encoded using numbers, not all of them represent numeric values. Check the third column of the feature summary (`feat_info`) for a summary of types of measurement.\n",
    "- For numeric and interval data, these features can be kept without changes.\n",
    "- Most of the variables in the dataset are ordinal in nature. While ordinal values may technically be non-linear in spacing, make the simplifying assumption that the ordinal variables can be treated as being interval in nature (that is, kept without any changes).\n",
    "- Special handling may be necessary for the remaining two variable types: categorical, and 'mixed'.\n",
    "\n",
    "In the first two parts of this sub-step, you will perform an investigation of the categorical and mixed-type features and make a decision on each of them, whether you will keep, drop, or re-encode each. Then, in the last part, you will create a new data frame with only the selected and engineered columns.\n",
    "\n",
    "Data wrangling is often the trickiest part of the data analysis process, and there's a lot of it to be done here. But stick with it: once you're done with this step, you'll be ready to get to the machine learning parts of the project!"
   ]
  },
  {
   "cell_type": "code",
   "execution_count": 108,
   "metadata": {},
   "outputs": [
    {
     "data": {
      "text/plain": [
       "ordinal        49\n",
       "categorical    21\n",
       "mixed           7\n",
       "numeric         7\n",
       "interval        1\n",
       "Name: type, dtype: int64"
      ]
     },
     "execution_count": 108,
     "metadata": {},
     "output_type": "execute_result"
    }
   ],
   "source": [
    "# How many features are there of each data type?\n",
    "feat_info['type'].value_counts()"
   ]
  },
  {
   "cell_type": "markdown",
   "metadata": {},
   "source": [
    "#### Step 1.2.1: Re-Encode Categorical Features\n",
    "\n",
    "For categorical data, you would ordinarily need to encode the levels as dummy variables. Depending on the number of categories, perform one of the following:\n",
    "- For binary (two-level) categoricals that take numeric values, you can keep them without needing to do anything.\n",
    "- There is one binary variable that takes on non-numeric values. For this one, you need to re-encode the values as numbers or create a dummy variable.\n",
    "- For multi-level categoricals (three or more values), you can choose to encode the values using multiple dummy variables (e.g. via [OneHotEncoder](http://scikit-learn.org/stable/modules/generated/sklearn.preprocessing.OneHotEncoder.html)), or (to keep things straightforward) just drop them from the analysis. As always, document your choices in the Discussion section."
   ]
  },
  {
   "cell_type": "code",
   "execution_count": 109,
   "metadata": {},
   "outputs": [
    {
     "name": "stdout",
     "output_type": "stream",
     "text": [
      "['AGER_TYP', 'ANREDE_KZ', 'CJT_GESAMTTYP', 'FINANZTYP', 'GFK_URLAUBERTYP', 'GREEN_AVANTGARDE', 'LP_FAMILIE_FEIN', 'LP_FAMILIE_GROB', 'LP_STATUS_FEIN', 'LP_STATUS_GROB', 'NATIONALITAET_KZ', 'SHOPPER_TYP', 'SOHO_KZ', 'TITEL_KZ', 'VERS_TYP', 'ZABEOTYP', 'KK_KUNDENTYP', 'GEBAEUDETYP', 'OST_WEST_KZ', 'CAMEO_DEUG_2015', 'CAMEO_DEU_2015']\n"
     ]
    }
   ],
   "source": [
    "# Assess categorical variables: which are binary, which are multi-level, and\n",
    "# which one needs to be re-encoded?\n",
    "\n",
    "categorical_features = list(feat_info[feat_info['type'] == 'categorical']['attribute'])\n",
    "print(categorical_features)"
   ]
  },
  {
   "cell_type": "code",
   "execution_count": 110,
   "metadata": {},
   "outputs": [
    {
     "name": "stdout",
     "output_type": "stream",
     "text": [
      "['AGER_TYP', 'TITEL_KZ', 'KK_KUNDENTYP']\n"
     ]
    }
   ],
   "source": [
    "# drop already removed outlier columns\n",
    "outlier_categorical_features = []\n",
    "for cat_feat in categorical_features.copy():\n",
    "    if cat_feat in outlier_columns:\n",
    "        categorical_features.remove(cat_feat)\n",
    "        outlier_categorical_features.append(cat_feat)\n",
    "        \n",
    "print(outlier_categorical_features)"
   ]
  },
  {
   "cell_type": "code",
   "execution_count": 111,
   "metadata": {},
   "outputs": [
    {
     "name": "stdout",
     "output_type": "stream",
     "text": [
      "['ANREDE_KZ', 'GREEN_AVANTGARDE', 'SOHO_KZ', 'VERS_TYP', 'OST_WEST_KZ']\n",
      "[1 2]\n",
      "[0 1]\n",
      "[nan  1.  0.]\n",
      "[nan  2.  1.]\n",
      "[nan 'W' 'O']\n"
     ]
    }
   ],
   "source": [
    "# which are binary?\n",
    "binary_features = []\n",
    "for cat_feat in categorical_features.copy():\n",
    "    if len(azdias[cat_feat].value_counts()) == 2:\n",
    "        categorical_features.remove(cat_feat)\n",
    "        binary_features.append(cat_feat)\n",
    "        \n",
    "print(binary_features)\n",
    "\n",
    "for binary_feat in binary_features:\n",
    "    print(azdias[binary_feat].unique())"
   ]
  },
  {
   "cell_type": "code",
   "execution_count": 112,
   "metadata": {},
   "outputs": [
    {
     "name": "stdout",
     "output_type": "stream",
     "text": [
      "['CJT_GESAMTTYP', 'FINANZTYP', 'GFK_URLAUBERTYP', 'LP_FAMILIE_FEIN', 'LP_FAMILIE_GROB', 'LP_STATUS_FEIN', 'LP_STATUS_GROB', 'NATIONALITAET_KZ', 'SHOPPER_TYP', 'ZABEOTYP', 'GEBAEUDETYP', 'CAMEO_DEUG_2015', 'CAMEO_DEU_2015']\n",
      "[ 2.  5.  3.  4.  1.  6. nan]\n",
      "[4 1 6 5 2 3]\n",
      "[10.  1.  5. 12.  9.  3.  8. 11.  4.  2.  7.  6. nan]\n",
      "[ 2.  5.  1. nan 10.  7. 11.  3.  8.  4.  6.  9.]\n",
      "[ 2.  3.  1. nan  5.  4.]\n",
      "[ 1.  2.  3.  9.  4. 10.  5.  8.  6.  7. nan]\n",
      "[ 1.  2.  4.  5.  3. nan]\n",
      "[nan  1.  3.  2.]\n",
      "[nan  3.  2.  1.  0.]\n",
      "[3 5 4 1 6 2]\n",
      "[nan  8.  1.  3.  2.  6.  4.  5.]\n",
      "[nan '8' '4' '2' '6' '1' '9' '5' '7' '3']\n",
      "[nan '8A' '4C' '2A' '6B' '8C' '4A' '2D' '1A' '1E' '9D' '5C' '8B' '7A' '5D'\n",
      " '9E' '9B' '1B' '3D' '4E' '4B' '3C' '5A' '7B' '9A' '6D' '6E' '2C' '7C'\n",
      " '9C' '7D' '5E' '1D' '8D' '6C' '6A' '5B' '4D' '3A' '2B' '7E' '3B' '6F'\n",
      " '5F' '1C']\n"
     ]
    }
   ],
   "source": [
    "# Which are multilevel?\n",
    "multi_level_categorical_features = []\n",
    "for cat_feat in categorical_features.copy():\n",
    "    if len(azdias[cat_feat].value_counts()) > 2:\n",
    "        categorical_features.remove(cat_feat)\n",
    "        multi_level_categorical_features.append(cat_feat)\n",
    "        \n",
    "print(multi_level_categorical_features)\n",
    "\n",
    "for cat_feat in multi_level_categorical_features:\n",
    "    print(azdias[cat_feat].unique())"
   ]
  },
  {
   "cell_type": "code",
   "execution_count": 113,
   "metadata": {},
   "outputs": [],
   "source": [
    "# Subjective analysis: Which are categorical variables that need to be dropped?\n",
    "\n",
    "multi_level_categorical_features_to_drop = ['CJT_GESAMTTYP', 'FINANZTYP', 'GFK_URLAUBERTYP', 'LP_FAMILIE_FEIN', 'LP_STATUS_FEIN', \n",
    "                                            'NATIONALITAET_KZ', 'SHOPPER_TYP', 'ZABEOTYP', 'GEBAEUDETYP', 'CAMEO_DEU_2015',\n",
    "                                            'LP_FAMILIE_GROB', 'LP_STATUS_GROB', 'CAMEO_DEUG_2015']\n",
    "\n",
    "multi_level_categorical_features_to_keep = []\n",
    "\n",
    "assert(len(categorical_features) == 0)"
   ]
  },
  {
   "cell_type": "code",
   "execution_count": 114,
   "metadata": {},
   "outputs": [
    {
     "name": "stdout",
     "output_type": "stream",
     "text": [
      "['LP_LEBENSPHASE_FEIN', 'LP_LEBENSPHASE_GROB', 'PRAEGENDE_JUGENDJAHRE', 'WOHNLAGE', 'CAMEO_INTL_2015', 'PLZ8_BAUMAX']\n",
      "[21.  3. nan 32.  8.  2.  5. 10.  4.  6. 23. 12. 20.  1. 25. 13. 18. 31.\n",
      " 38. 35. 30.  7. 22. 14. 29. 24. 28. 37. 26. 39. 27. 36.  9. 34. 33. 15.\n",
      " 11. 40. 16. 19. 17.]\n",
      "[ 6.  1. nan 10.  2.  3.  5.  7. 12. 11.  9.  4.  8.]\n",
      "[14. 15.  8.  3. 10. 11.  5.  9.  6.  4. nan  2.  1. 12. 13.  7.]\n",
      "[4. 2. 7. 3. 5. 1. 8. 0.]\n",
      "['51' '24' '12' '43' '54' '22' '14' '13' '15' '33' '41' '34' '55' '25' nan\n",
      " '23' '31' '52' '35' '45' '44' '32']\n",
      "[ 1.  2. nan  4.  5.  3.]\n"
     ]
    }
   ],
   "source": [
    "mixed_featrures = list(feat_info[feat_info['type'] == 'mixed']['attribute'])\n",
    "\n",
    "# drop already removed outlier columns\n",
    "for mixed_feat in mixed_featrures.copy():\n",
    "    if mixed_feat in outlier_columns:\n",
    "        mixed_featrures.remove(mixed_feat)\n",
    "        \n",
    "print(mixed_featrures)\n",
    "\n",
    "for cat_feat in mixed_featrures:\n",
    "    print(azdias_subset1[cat_feat].unique())"
   ]
  },
  {
   "cell_type": "code",
   "execution_count": 115,
   "metadata": {},
   "outputs": [],
   "source": [
    "# def drop_bianry_features(df: pd.DataFrame) -> pd.DataFrame:\n",
    "#     \"\"\"Drop binary features\n",
    "    \n",
    "#     Args:\n",
    "#         df: source dataframe\n",
    "        \n",
    "#     Returns\n",
    "#         dataframe without binary features\n",
    "#     \"\"\"\n",
    "    \n",
    "#     for binary_feat in binary_features:\n",
    "#         df.drop(binary_feat, axis=1, inplace=True)\n",
    "        \n",
    "#     return df\n",
    "\n",
    "#azdias = drop_bianry_features(azdias)"
   ]
  },
  {
   "cell_type": "code",
   "execution_count": 116,
   "metadata": {},
   "outputs": [],
   "source": [
    "# Re-encode categorical variable(s) to be kept in the analysis.\n",
    "def re_encode_categorical_features(df: pd.DataFrame) -> pd.DataFrame:\n",
    "    \"\"\"Re-encode categorical variable(s) to be kept in the analysis.\n",
    "    \n",
    "    Args:\n",
    "        df: source dataframe\n",
    "\n",
    "    Returns:\n",
    "        Encoded dataframe\n",
    "    \"\"\"\n",
    "\n",
    "    # Map OST_WEST_KZ to 1, 0\n",
    "    df.loc[:, 'OST_WEST_KZ'] = df['OST_WEST_KZ'].map({'W': 1, 'O': 0})\n",
    "    \n",
    "    if len(multi_level_categorical_features_to_drop):\n",
    "        df = df.drop(multi_level_categorical_features_to_drop, axis=1, inplace=False)\n",
    "        \n",
    "    if len(multi_level_categorical_features_to_keep):\n",
    "        df = pd.get_dummies(df, columns=multi_level_categorical_features_to_keep)\n",
    "    \n",
    "    return df"
   ]
  },
  {
   "cell_type": "code",
   "execution_count": 117,
   "metadata": {},
   "outputs": [
    {
     "name": "stderr",
     "output_type": "stream",
     "text": [
      "c:\\IDE\\Anaconda3\\envs\\python38\\lib\\site-packages\\pandas\\core\\indexing.py:1745: SettingWithCopyWarning: \n",
      "A value is trying to be set on a copy of a slice from a DataFrame.\n",
      "Try using .loc[row_indexer,col_indexer] = value instead\n",
      "\n",
      "See the caveats in the documentation: https://pandas.pydata.org/pandas-docs/stable/user_guide/indexing.html#returning-a-view-versus-a-copy\n",
      "  isetter(ilocs[0], value)\n"
     ]
    }
   ],
   "source": [
    "azdias_subset1_encoded = re_encode_categorical_features(azdias_subset1)"
   ]
  },
  {
   "cell_type": "code",
   "execution_count": 118,
   "metadata": {},
   "outputs": [
    {
     "data": {
      "text/plain": [
       "(780153, 66)"
      ]
     },
     "execution_count": 118,
     "metadata": {},
     "output_type": "execute_result"
    }
   ],
   "source": [
    "azdias_subset1_encoded.shape"
   ]
  },
  {
   "cell_type": "markdown",
   "metadata": {},
   "source": [
    "#### Discussion 1.2.1: Re-Encode Categorical Features\n",
    "\n",
    "The catgerical features were preprocessed as follows:\n",
    "- Binary categorical features were left as is except for OST_WEST_KZ which was mapped to 1, 0 in place of W, O\n",
    "- Deleted all multilevel categorical features"
   ]
  },
  {
   "cell_type": "markdown",
   "metadata": {},
   "source": [
    "#### Step 1.2.2: Engineer Mixed-Type Features\n",
    "\n",
    "There are a handful of features that are marked as \"mixed\" in the feature summary that require special treatment in order to be included in the analysis. There are two in particular that deserve attention; the handling of the rest are up to your own choices:\n",
    "- \"PRAEGENDE_JUGENDJAHRE\" combines information on three dimensions: generation by decade, movement (mainstream vs. avantgarde), and nation (east vs. west). While there aren't enough levels to disentangle east from west, you should create two new variables to capture the other two dimensions: an interval-type variable for decade, and a binary variable for movement.\n",
    "- \"CAMEO_INTL_2015\" combines information on two axes: wealth and life stage. Break up the two-digit codes by their 'tens'-place and 'ones'-place digits into two new ordinal variables (which, for the purposes of this project, is equivalent to just treating them as their raw numeric values).\n",
    "- If you decide to keep or engineer new features around the other mixed-type features, make sure you note your steps in the Discussion section.\n",
    "\n",
    "Be sure to check `Data_Dictionary.md` for the details needed to finish these tasks."
   ]
  },
  {
   "cell_type": "code",
   "execution_count": 119,
   "metadata": {},
   "outputs": [],
   "source": [
    "def re_encode_mixed_features(df: pd.DataFrame) -> pd.DataFrame:\n",
    "    \"\"\"Re-encode mixed features\n",
    "    \n",
    "    Args:\n",
    "        df: source dataframe\n",
    "        \n",
    "    Returns:\n",
    "        dataframe with encoded mixed features\n",
    "    \"\"\"\n",
    "    \n",
    "    # Investigate \"PRAEGENDE_JUGENDJAHRE\" and engineer two new variables.\n",
    "    df['PRAEGENDE_JUGENDJAHRE'] = df['PRAEGENDE_JUGENDJAHRE'].map({ 1: '40s - Mainstream',\n",
    "                                                                    2: '40s - Avantgarde',\n",
    "                                                                    3: '50s - Mainstream',\n",
    "                                                                    4: '50s - Avantgarde',\n",
    "                                                                    5: '60s - Mainstream',\n",
    "                                                                    6: '60s - Avantgarde',\n",
    "                                                                    7: '60s - Avantgarde',\n",
    "                                                                    8: '70s - Mainstream',\n",
    "                                                                    9: '70s - Avantgarde',\n",
    "                                                                    10: '80s - Mainstream',\n",
    "                                                                    11: '80s - Avantgarde',\n",
    "                                                                    12: '80s - Mainstream',\n",
    "                                                                    13: '80s - Avantgarde',\n",
    "                                                                    14: '90s - Mainstream',\n",
    "                                                                    15: '90s - Avantgarde'\n",
    "                                                                  })\n",
    "    \n",
    "    df[['PRAEGENDE_JUGENDJAHRE_GENERATION', 'PRAEGENDE_JUGENDJAHRE_MOVEMENT']] = df['PRAEGENDE_JUGENDJAHRE'].str.split(' - ', expand=True)\n",
    "\n",
    "    #print(df[['PRAEGENDE_JUGENDJAHRE_GENERATION', 'PRAEGENDE_JUGENDJAHRE_MOVEMENT']].head())\n",
    "    \n",
    "    df['PRAEGENDE_JUGENDJAHRE_GENERATION'] = df['PRAEGENDE_JUGENDJAHRE_GENERATION'].map({\n",
    "                                                                                        '40s': 1,\n",
    "                                                                                        '50s': 2,\n",
    "                                                                                        '60s': 3,\n",
    "                                                                                        '70s': 4,\n",
    "                                                                                        '80s': 5,\n",
    "                                                                                        '90s': 6\n",
    "                                                                                        })\n",
    "    \n",
    "    df['PRAEGENDE_JUGENDJAHRE_MOVEMENT'] = df['PRAEGENDE_JUGENDJAHRE_MOVEMENT'].map({'Avantgarde': 1,\n",
    "                                                                                    'Mainstream': 0})\n",
    "    \n",
    "    df.drop('PRAEGENDE_JUGENDJAHRE', axis=1, inplace=True)\n",
    "    \n",
    "    df.drop('PRAEGENDE_JUGENDJAHRE_MOVEMENT', axis=1, inplace=True) # drop binary feature\n",
    "    \n",
    "    # Investigate \"CAMEO_INTL_2015\" and engineer two new variables.\n",
    "    df['CAMEO_INTL_2015'].replace(to_replace=np.nan, value=0, inplace=True)\n",
    "    df['CAMEO_INTL_2015'] = df['CAMEO_INTL_2015'].astype(int)\n",
    "    df['CAMEO_INTL_2015_HOUSEHOLD'] = df['CAMEO_INTL_2015'] // 10\n",
    "    \n",
    "    # # Make ordinal categorical variable.\n",
    "    df['CAMEO_INTL_2015_HOUSEHOLD'] = df['CAMEO_INTL_2015_HOUSEHOLD'].map({1: 5,\n",
    "                                                                            2: 4,\n",
    "                                                                            3: 3,\n",
    "                                                                            4: 2,\n",
    "                                                                            5: 1})\n",
    "    \n",
    "    df['CAMEO_INTL_2015_HOUSEHOLD'].replace(to_replace=0, value=np.nan, inplace=True)\n",
    "    \n",
    "    df['CAMEO_INTL_2015_FAMILY'] = df['CAMEO_INTL_2015'] % 10\n",
    "    \n",
    "    df['CAMEO_INTL_2015_FAMILY'].replace(to_replace=0, value=np.nan, inplace=True)\n",
    "\n",
    "    #df[['CAMEO_INTL_2015', 'CAMEO_INTL_2015_HOUSEHOLD', 'CAMEO_INTL_2015_FAMILY']]\n",
    "    \n",
    "    df.drop('CAMEO_INTL_2015', axis=1, inplace=True)\n",
    "    \n",
    "    df.drop(['LP_LEBENSPHASE_FEIN', 'LP_LEBENSPHASE_GROB', 'PLZ8_BAUMAX', 'WOHNLAGE'], axis=1, inplace=True)\n",
    "    \n",
    "    return df    "
   ]
  },
  {
   "cell_type": "code",
   "execution_count": 120,
   "metadata": {},
   "outputs": [],
   "source": [
    "azdias_subset1_encoded = re_encode_mixed_features(azdias_subset1_encoded)"
   ]
  },
  {
   "cell_type": "code",
   "execution_count": 121,
   "metadata": {},
   "outputs": [
    {
     "data": {
      "text/plain": [
       "(780153, 63)"
      ]
     },
     "execution_count": 121,
     "metadata": {},
     "output_type": "execute_result"
    }
   ],
   "source": [
    "azdias_subset1_encoded.shape"
   ]
  },
  {
   "cell_type": "code",
   "execution_count": 122,
   "metadata": {},
   "outputs": [
    {
     "data": {
      "text/html": [
       "<div>\n",
       "<style scoped>\n",
       "    .dataframe tbody tr th:only-of-type {\n",
       "        vertical-align: middle;\n",
       "    }\n",
       "\n",
       "    .dataframe tbody tr th {\n",
       "        vertical-align: top;\n",
       "    }\n",
       "\n",
       "    .dataframe thead th {\n",
       "        text-align: right;\n",
       "    }\n",
       "</style>\n",
       "<table border=\"1\" class=\"dataframe\">\n",
       "  <thead>\n",
       "    <tr style=\"text-align: right;\">\n",
       "      <th></th>\n",
       "      <th>ALTERSKATEGORIE_GROB</th>\n",
       "      <th>ANREDE_KZ</th>\n",
       "      <th>FINANZ_MINIMALIST</th>\n",
       "      <th>FINANZ_SPARER</th>\n",
       "      <th>FINANZ_VORSORGER</th>\n",
       "      <th>FINANZ_ANLEGER</th>\n",
       "      <th>FINANZ_UNAUFFAELLIGER</th>\n",
       "      <th>FINANZ_HAUSBAUER</th>\n",
       "      <th>GREEN_AVANTGARDE</th>\n",
       "      <th>HEALTH_TYP</th>\n",
       "      <th>...</th>\n",
       "      <th>PLZ8_ANTG3</th>\n",
       "      <th>PLZ8_ANTG4</th>\n",
       "      <th>PLZ8_HHZ</th>\n",
       "      <th>PLZ8_GBZ</th>\n",
       "      <th>ARBEIT</th>\n",
       "      <th>ORTSGR_KLS9</th>\n",
       "      <th>RELAT_AB</th>\n",
       "      <th>PRAEGENDE_JUGENDJAHRE_GENERATION</th>\n",
       "      <th>CAMEO_INTL_2015_HOUSEHOLD</th>\n",
       "      <th>CAMEO_INTL_2015_FAMILY</th>\n",
       "    </tr>\n",
       "  </thead>\n",
       "  <tbody>\n",
       "    <tr>\n",
       "      <th>count</th>\n",
       "      <td>777528.000000</td>\n",
       "      <td>780153.000000</td>\n",
       "      <td>780153.000000</td>\n",
       "      <td>780153.000000</td>\n",
       "      <td>780153.000000</td>\n",
       "      <td>780153.000000</td>\n",
       "      <td>780153.000000</td>\n",
       "      <td>780153.000000</td>\n",
       "      <td>780153.000000</td>\n",
       "      <td>745629.000000</td>\n",
       "      <td>...</td>\n",
       "      <td>772038.000000</td>\n",
       "      <td>772038.000000</td>\n",
       "      <td>772038.000000</td>\n",
       "      <td>772038.000000</td>\n",
       "      <td>776154.000000</td>\n",
       "      <td>776246.000000</td>\n",
       "      <td>776154.000000</td>\n",
       "      <td>753679.000000</td>\n",
       "      <td>776497.000000</td>\n",
       "      <td>776497.000000</td>\n",
       "    </tr>\n",
       "    <tr>\n",
       "      <th>mean</th>\n",
       "      <td>2.797778</td>\n",
       "      <td>1.521235</td>\n",
       "      <td>3.050657</td>\n",
       "      <td>2.711548</td>\n",
       "      <td>3.439027</td>\n",
       "      <td>2.838339</td>\n",
       "      <td>2.634099</td>\n",
       "      <td>3.144031</td>\n",
       "      <td>0.220073</td>\n",
       "      <td>2.203840</td>\n",
       "      <td>...</td>\n",
       "      <td>1.596506</td>\n",
       "      <td>0.699813</td>\n",
       "      <td>3.612866</td>\n",
       "      <td>3.380116</td>\n",
       "      <td>3.174057</td>\n",
       "      <td>5.306636</td>\n",
       "      <td>3.079018</td>\n",
       "      <td>4.323676</td>\n",
       "      <td>2.725701</td>\n",
       "      <td>2.870714</td>\n",
       "    </tr>\n",
       "    <tr>\n",
       "      <th>std</th>\n",
       "      <td>1.019078</td>\n",
       "      <td>0.499549</td>\n",
       "      <td>1.378001</td>\n",
       "      <td>1.486898</td>\n",
       "      <td>1.376730</td>\n",
       "      <td>1.473251</td>\n",
       "      <td>1.393676</td>\n",
       "      <td>1.398751</td>\n",
       "      <td>0.414296</td>\n",
       "      <td>0.755139</td>\n",
       "      <td>...</td>\n",
       "      <td>0.986787</td>\n",
       "      <td>0.727345</td>\n",
       "      <td>0.973635</td>\n",
       "      <td>1.111677</td>\n",
       "      <td>0.996838</td>\n",
       "      <td>2.302218</td>\n",
       "      <td>1.359341</td>\n",
       "      <td>1.458356</td>\n",
       "      <td>1.465495</td>\n",
       "      <td>1.487881</td>\n",
       "    </tr>\n",
       "    <tr>\n",
       "      <th>min</th>\n",
       "      <td>1.000000</td>\n",
       "      <td>1.000000</td>\n",
       "      <td>1.000000</td>\n",
       "      <td>1.000000</td>\n",
       "      <td>1.000000</td>\n",
       "      <td>1.000000</td>\n",
       "      <td>1.000000</td>\n",
       "      <td>1.000000</td>\n",
       "      <td>0.000000</td>\n",
       "      <td>1.000000</td>\n",
       "      <td>...</td>\n",
       "      <td>0.000000</td>\n",
       "      <td>0.000000</td>\n",
       "      <td>1.000000</td>\n",
       "      <td>1.000000</td>\n",
       "      <td>1.000000</td>\n",
       "      <td>1.000000</td>\n",
       "      <td>1.000000</td>\n",
       "      <td>1.000000</td>\n",
       "      <td>1.000000</td>\n",
       "      <td>1.000000</td>\n",
       "    </tr>\n",
       "    <tr>\n",
       "      <th>25%</th>\n",
       "      <td>2.000000</td>\n",
       "      <td>1.000000</td>\n",
       "      <td>2.000000</td>\n",
       "      <td>1.000000</td>\n",
       "      <td>2.000000</td>\n",
       "      <td>1.000000</td>\n",
       "      <td>1.000000</td>\n",
       "      <td>2.000000</td>\n",
       "      <td>0.000000</td>\n",
       "      <td>2.000000</td>\n",
       "      <td>...</td>\n",
       "      <td>1.000000</td>\n",
       "      <td>0.000000</td>\n",
       "      <td>3.000000</td>\n",
       "      <td>3.000000</td>\n",
       "      <td>3.000000</td>\n",
       "      <td>4.000000</td>\n",
       "      <td>2.000000</td>\n",
       "      <td>3.000000</td>\n",
       "      <td>1.000000</td>\n",
       "      <td>1.000000</td>\n",
       "    </tr>\n",
       "    <tr>\n",
       "      <th>50%</th>\n",
       "      <td>3.000000</td>\n",
       "      <td>2.000000</td>\n",
       "      <td>3.000000</td>\n",
       "      <td>3.000000</td>\n",
       "      <td>4.000000</td>\n",
       "      <td>3.000000</td>\n",
       "      <td>2.000000</td>\n",
       "      <td>3.000000</td>\n",
       "      <td>0.000000</td>\n",
       "      <td>2.000000</td>\n",
       "      <td>...</td>\n",
       "      <td>2.000000</td>\n",
       "      <td>1.000000</td>\n",
       "      <td>4.000000</td>\n",
       "      <td>3.000000</td>\n",
       "      <td>3.000000</td>\n",
       "      <td>5.000000</td>\n",
       "      <td>3.000000</td>\n",
       "      <td>4.000000</td>\n",
       "      <td>2.000000</td>\n",
       "      <td>3.000000</td>\n",
       "    </tr>\n",
       "    <tr>\n",
       "      <th>75%</th>\n",
       "      <td>4.000000</td>\n",
       "      <td>2.000000</td>\n",
       "      <td>4.000000</td>\n",
       "      <td>4.000000</td>\n",
       "      <td>5.000000</td>\n",
       "      <td>4.000000</td>\n",
       "      <td>4.000000</td>\n",
       "      <td>4.000000</td>\n",
       "      <td>0.000000</td>\n",
       "      <td>3.000000</td>\n",
       "      <td>...</td>\n",
       "      <td>2.000000</td>\n",
       "      <td>1.000000</td>\n",
       "      <td>4.000000</td>\n",
       "      <td>4.000000</td>\n",
       "      <td>4.000000</td>\n",
       "      <td>7.000000</td>\n",
       "      <td>4.000000</td>\n",
       "      <td>6.000000</td>\n",
       "      <td>4.000000</td>\n",
       "      <td>4.000000</td>\n",
       "    </tr>\n",
       "    <tr>\n",
       "      <th>max</th>\n",
       "      <td>4.000000</td>\n",
       "      <td>2.000000</td>\n",
       "      <td>5.000000</td>\n",
       "      <td>5.000000</td>\n",
       "      <td>5.000000</td>\n",
       "      <td>5.000000</td>\n",
       "      <td>5.000000</td>\n",
       "      <td>5.000000</td>\n",
       "      <td>1.000000</td>\n",
       "      <td>3.000000</td>\n",
       "      <td>...</td>\n",
       "      <td>3.000000</td>\n",
       "      <td>2.000000</td>\n",
       "      <td>5.000000</td>\n",
       "      <td>5.000000</td>\n",
       "      <td>5.000000</td>\n",
       "      <td>9.000000</td>\n",
       "      <td>5.000000</td>\n",
       "      <td>6.000000</td>\n",
       "      <td>5.000000</td>\n",
       "      <td>5.000000</td>\n",
       "    </tr>\n",
       "  </tbody>\n",
       "</table>\n",
       "<p>8 rows × 63 columns</p>\n",
       "</div>"
      ],
      "text/plain": [
       "       ALTERSKATEGORIE_GROB      ANREDE_KZ  FINANZ_MINIMALIST  FINANZ_SPARER  \\\n",
       "count         777528.000000  780153.000000      780153.000000  780153.000000   \n",
       "mean               2.797778       1.521235           3.050657       2.711548   \n",
       "std                1.019078       0.499549           1.378001       1.486898   \n",
       "min                1.000000       1.000000           1.000000       1.000000   \n",
       "25%                2.000000       1.000000           2.000000       1.000000   \n",
       "50%                3.000000       2.000000           3.000000       3.000000   \n",
       "75%                4.000000       2.000000           4.000000       4.000000   \n",
       "max                4.000000       2.000000           5.000000       5.000000   \n",
       "\n",
       "       FINANZ_VORSORGER  FINANZ_ANLEGER  FINANZ_UNAUFFAELLIGER  \\\n",
       "count     780153.000000   780153.000000          780153.000000   \n",
       "mean           3.439027        2.838339               2.634099   \n",
       "std            1.376730        1.473251               1.393676   \n",
       "min            1.000000        1.000000               1.000000   \n",
       "25%            2.000000        1.000000               1.000000   \n",
       "50%            4.000000        3.000000               2.000000   \n",
       "75%            5.000000        4.000000               4.000000   \n",
       "max            5.000000        5.000000               5.000000   \n",
       "\n",
       "       FINANZ_HAUSBAUER  GREEN_AVANTGARDE     HEALTH_TYP  ...     PLZ8_ANTG3  \\\n",
       "count     780153.000000     780153.000000  745629.000000  ...  772038.000000   \n",
       "mean           3.144031          0.220073       2.203840  ...       1.596506   \n",
       "std            1.398751          0.414296       0.755139  ...       0.986787   \n",
       "min            1.000000          0.000000       1.000000  ...       0.000000   \n",
       "25%            2.000000          0.000000       2.000000  ...       1.000000   \n",
       "50%            3.000000          0.000000       2.000000  ...       2.000000   \n",
       "75%            4.000000          0.000000       3.000000  ...       2.000000   \n",
       "max            5.000000          1.000000       3.000000  ...       3.000000   \n",
       "\n",
       "          PLZ8_ANTG4       PLZ8_HHZ       PLZ8_GBZ         ARBEIT  \\\n",
       "count  772038.000000  772038.000000  772038.000000  776154.000000   \n",
       "mean        0.699813       3.612866       3.380116       3.174057   \n",
       "std         0.727345       0.973635       1.111677       0.996838   \n",
       "min         0.000000       1.000000       1.000000       1.000000   \n",
       "25%         0.000000       3.000000       3.000000       3.000000   \n",
       "50%         1.000000       4.000000       3.000000       3.000000   \n",
       "75%         1.000000       4.000000       4.000000       4.000000   \n",
       "max         2.000000       5.000000       5.000000       5.000000   \n",
       "\n",
       "         ORTSGR_KLS9       RELAT_AB  PRAEGENDE_JUGENDJAHRE_GENERATION  \\\n",
       "count  776246.000000  776154.000000                     753679.000000   \n",
       "mean        5.306636       3.079018                          4.323676   \n",
       "std         2.302218       1.359341                          1.458356   \n",
       "min         1.000000       1.000000                          1.000000   \n",
       "25%         4.000000       2.000000                          3.000000   \n",
       "50%         5.000000       3.000000                          4.000000   \n",
       "75%         7.000000       4.000000                          6.000000   \n",
       "max         9.000000       5.000000                          6.000000   \n",
       "\n",
       "       CAMEO_INTL_2015_HOUSEHOLD  CAMEO_INTL_2015_FAMILY  \n",
       "count              776497.000000           776497.000000  \n",
       "mean                    2.725701                2.870714  \n",
       "std                     1.465495                1.487881  \n",
       "min                     1.000000                1.000000  \n",
       "25%                     1.000000                1.000000  \n",
       "50%                     2.000000                3.000000  \n",
       "75%                     4.000000                4.000000  \n",
       "max                     5.000000                5.000000  \n",
       "\n",
       "[8 rows x 63 columns]"
      ]
     },
     "execution_count": 122,
     "metadata": {},
     "output_type": "execute_result"
    }
   ],
   "source": [
    "azdias_subset1_encoded.describe()"
   ]
  },
  {
   "cell_type": "code",
   "execution_count": null,
   "metadata": {},
   "outputs": [],
   "source": []
  },
  {
   "cell_type": "code",
   "execution_count": null,
   "metadata": {},
   "outputs": [],
   "source": []
  },
  {
   "cell_type": "code",
   "execution_count": null,
   "metadata": {},
   "outputs": [],
   "source": []
  },
  {
   "cell_type": "code",
   "execution_count": null,
   "metadata": {},
   "outputs": [],
   "source": []
  },
  {
   "cell_type": "code",
   "execution_count": null,
   "metadata": {},
   "outputs": [],
   "source": []
  },
  {
   "cell_type": "code",
   "execution_count": null,
   "metadata": {},
   "outputs": [],
   "source": []
  },
  {
   "cell_type": "markdown",
   "metadata": {},
   "source": [
    "#### Discussion 1.2.2: Engineer Mixed-Type Features\n",
    "\n",
    "- **PRAEGENDE_JUGENDJAHRE** feature was split into two features: \n",
    "    - PRAEGENDE_JUGENDJAHRE_GENERATION representing the generation (40s to 90s)\n",
    "    - PRAEGENDE_JUGENDJAHRE_MOVEMENT representing Avantgarde or Mainstream movement\n",
    "    \n",
    "- **CAMEO_INTL_2015 feature** was split into two features: \n",
    "    - CAMEO_INTL_2015_HOUSEHOLD representing finanical status of households\n",
    "    - CAMEO_INTL_2015_FAMILY representing type of family\n",
    "    \n",
    "- **LP_LEBENSPHASE_FEIN, LP_LEBENSPHASE_GROB, PLZ8_BAUMAX and WOHNLAGE** were dropped"
   ]
  },
  {
   "cell_type": "markdown",
   "metadata": {},
   "source": [
    "#### Step 1.2.3: Complete Feature Selection\n",
    "\n",
    "In order to finish this step up, you need to make sure that your data frame now only has the columns that you want to keep. To summarize, the dataframe should consist of the following:\n",
    "- All numeric, interval, and ordinal type columns from the original dataset.\n",
    "- Binary categorical features (all numerically-encoded).\n",
    "- Engineered features from other multi-level categorical features and mixed features.\n",
    "\n",
    "Make sure that for any new columns that you have engineered, that you've excluded the original columns from the final dataset. Otherwise, their values will interfere with the analysis later on the project. For example, you should not keep \"PRAEGENDE_JUGENDJAHRE\", since its values won't be useful for the algorithm: only the values derived from it in the engineered features you created should be retained. As a reminder, your data should only be from **the subset with few or no missing values**."
   ]
  },
  {
   "cell_type": "code",
   "execution_count": 123,
   "metadata": {},
   "outputs": [],
   "source": [
    "# If there are other re-engineering tasks you need to perform, make sure you\n",
    "# take care of them here. (Dealing with missing data will come in step 2.1.)\n"
   ]
  },
  {
   "cell_type": "code",
   "execution_count": 124,
   "metadata": {},
   "outputs": [],
   "source": [
    "# Do whatever you need to in order to ensure that the dataframe only contains\n",
    "# the columns that should be passed to the algorithm functions.\n",
    "\n"
   ]
  },
  {
   "cell_type": "markdown",
   "metadata": {},
   "source": [
    "### Step 1.3: Create a Cleaning Function\n",
    "\n",
    "Even though you've finished cleaning up the general population demographics data, it's important to look ahead to the future and realize that you'll need to perform the same cleaning steps on the customer demographics data. In this substep, complete the function below to execute the main feature selection, encoding, and re-engineering steps you performed above. Then, when it comes to looking at the customer data in Step 3, you can just run this function on that DataFrame to get the trimmed dataset in a single step."
   ]
  },
  {
   "cell_type": "code",
   "execution_count": 125,
   "metadata": {},
   "outputs": [],
   "source": [
    "def clean_data(df: pd.DataFrame) -> list:\n",
    "    \"\"\"\n",
    "    Perform feature trimming, re-encoding, and engineering for demographics\n",
    "    data\n",
    "    \n",
    "    INPUT: Demographics DataFrame\n",
    "    OUTPUT: Trimmed and cleaned demographics DataFrame\n",
    "    \"\"\"\n",
    "    \n",
    "    # Put in code here to execute all main cleaning steps:\n",
    "    \n",
    "    # Convert all missing data values identified from the feature summary sheet to NaN.\n",
    "    df = convert_missing_to_nan(df)\n",
    "\n",
    "    # drop outlier columns\n",
    "    df = drop_outlier_columns(df, outlier_columns)\n",
    "        \n",
    "    # plot a histogram of the rows with missing data\n",
    "    plt.figure()\n",
    "    df.isnull().sum(axis=1).hist()\n",
    "    plt.title(\"Distribution of rows with missing values\")\n",
    "    plt.ylabel(\"Number of rows\")\n",
    "    plt.xlabel(\"Number of missing values per row\")\n",
    "    plt.show()\n",
    "    \n",
    "    missing_mask = df.isnull().sum(axis=1)\n",
    "\n",
    "    df_subset1 = df[missing_mask <= threshold_missing]\n",
    "    df_subset2 = df[missing_mask > threshold_missing]\n",
    "\n",
    "    # select, re-encode, and engineer column values.\n",
    "    encoded_subset1_df = re_encode_categorical_features(df_subset1)\n",
    "    \n",
    "    encoded_subset1_df = re_encode_mixed_features(encoded_subset1_df)\n",
    "    \n",
    "    # Return the cleaned dataframe.\n",
    "    return [encoded_subset1_df, df_subset2]\n",
    "\n",
    "\n",
    "def test_clean_data():\n",
    "    azdias_test = pd.read_csv('Udacity_AZDIAS_Subset.csv', sep=';')\n",
    "    \n",
    "    azdias_clean_data_subset1_encoded, azdias_clean_data_subset2 = clean_data(azdias_test)\n",
    "\n",
    "    assert azdias_clean_data_subset1_encoded.shape[0] == azdias_subset1_encoded.shape[0], \"clean_data function is not working properly, rows mismatch\"\n",
    "    assert azdias_clean_data_subset1_encoded.shape[1] == azdias_subset1_encoded.shape[1], \"clean_data function is not working properly, columns mismatch\"\n",
    "    print(\"If this is all you see, you passed the tests\")\n",
    "    \n",
    "b_test_clean_data = False\n",
    "if b_test_clean_data == True:\n",
    "    test_clean_data()"
   ]
  },
  {
   "cell_type": "markdown",
   "metadata": {},
   "source": [
    "## Step 2: Feature Transformation\n",
    "\n",
    "### Step 2.1: Apply Feature Scaling\n",
    "\n",
    "Before we apply dimensionality reduction techniques to the data, we need to perform feature scaling so that the principal component vectors are not influenced by the natural differences in scale for features. Starting from this part of the project, you'll want to keep an eye on the [API reference page for sklearn](http://scikit-learn.org/stable/modules/classes.html) to help you navigate to all of the classes and functions that you'll need. In this substep, you'll need to check the following:\n",
    "\n",
    "- sklearn requires that data not have missing values in order for its estimators to work properly. So, before applying the scaler to your data, make sure that you've cleaned the DataFrame of the remaining missing values. This can be as simple as just removing all data points with missing data, or applying an [Imputer](https://scikit-learn.org/0.16/modules/generated/sklearn.preprocessing.Imputer.html) to replace all missing values. You might also try a more complicated procedure where you temporarily remove missing values in order to compute the scaling parameters before re-introducing those missing values and applying imputation. Think about how much missing data you have and what possible effects each approach might have on your analysis, and justify your decision in the discussion section below.\n",
    "- For the actual scaling function, a [StandardScaler](http://scikit-learn.org/stable/modules/generated/sklearn.preprocessing.StandardScaler.html) instance is suggested, scaling each feature to mean 0 and standard deviation 1.\n",
    "- For these classes, you can make use of the `.fit_transform()` method to both fit a procedure to the data as well as apply the transformation to the data at the same time. Don't forget to keep the fit sklearn objects handy, since you'll be applying them to the customer demographics data towards the end of the project."
   ]
  },
  {
   "cell_type": "code",
   "execution_count": 126,
   "metadata": {},
   "outputs": [],
   "source": [
    "# If you've not yet cleaned the dataset of all NaN values, then investigate and\n",
    "# do that now.\n",
    "\n",
    "impute = True\n",
    "\n",
    "from sklearn.impute import SimpleImputer\n",
    "imp_median = SimpleImputer(missing_values=np.nan, strategy='median')\n",
    "\n",
    "imp_median.fit(azdias_subset1_encoded)\n",
    "\n",
    "if impute:\n",
    "    azdias_subset1_encoded_imputed = imp_median.transform(azdias_subset1_encoded)\n",
    "else:\n",
    "    azdias_subset1_encoded_imputed = remove_rows_with_missing_values(azdias_subset1_encoded)"
   ]
  },
  {
   "cell_type": "code",
   "execution_count": 127,
   "metadata": {},
   "outputs": [
    {
     "data": {
      "text/plain": [
       "(780153, 63)"
      ]
     },
     "execution_count": 127,
     "metadata": {},
     "output_type": "execute_result"
    }
   ],
   "source": [
    "# Apply feature scaling to the general population demographics data.\n",
    "from sklearn.preprocessing import StandardScaler\n",
    "\n",
    "ss = StandardScaler()\n",
    "\n",
    "azdias_subset1_encoded_imputed_ss = ss.fit_transform(azdias_subset1_encoded_imputed)\n",
    "\n",
    "azdias_subset1_encoded_imputed_ss = pd.DataFrame(azdias_subset1_encoded_imputed_ss, columns=azdias_subset1_encoded.columns)\n",
    "\n",
    "azdias_subset1_encoded_imputed_ss.shape"
   ]
  },
  {
   "cell_type": "markdown",
   "metadata": {},
   "source": [
    "### Discussion 2.1: Apply Feature Scaling\n",
    "\n",
    "- I have decided to impute missing values in order to keep as much of the data as possible. For testing purposes, I have tried the modeling and clustering parts using only row with no missing values and the results are almost identical so I think it is better to impute and keep the data\n",
    "- I have used the Standard Scaler for feature scaling"
   ]
  },
  {
   "cell_type": "markdown",
   "metadata": {},
   "source": [
    "### Step 2.2: Perform Dimensionality Reduction\n",
    "\n",
    "On your scaled data, you are now ready to apply dimensionality reduction techniques.\n",
    "\n",
    "- Use sklearn's [PCA](http://scikit-learn.org/stable/modules/generated/sklearn.decomposition.PCA.html) class to apply principal component analysis on the data, thus finding the vectors of maximal variance in the data. To start, you should not set any parameters (so all components are computed) or set a number of components that is at least half the number of features (so there's enough features to see the general trend in variability).\n",
    "- Check out the ratio of variance explained by each principal component as well as the cumulative variance explained. Try plotting the cumulative or sequential values using matplotlib's [`plot()`](https://matplotlib.org/api/_as_gen/matplotlib.pyplot.plot.html) function. Based on what you find, select a value for the number of transformed features you'll retain for the clustering part of the project.\n",
    "- Once you've made a choice for the number of components to keep, make sure you re-fit a PCA instance to perform the decided-on transformation."
   ]
  },
  {
   "cell_type": "code",
   "execution_count": 128,
   "metadata": {},
   "outputs": [
    {
     "name": "stdout",
     "output_type": "stream",
     "text": [
      "Number of features:  63\n",
      "Number of components:  63\n"
     ]
    }
   ],
   "source": [
    "# Apply PCA to the data.\n",
    "from sklearn.decomposition import PCA\n",
    "\n",
    "num_features = azdias_subset1_encoded_imputed_ss.shape[1]\n",
    "\n",
    "print(\"Number of features: \", num_features)\n",
    "\n",
    "n_components = num_features\n",
    "\n",
    "print(\"Number of components: \", n_components)\n",
    "\n",
    "pca = PCA(n_components, random_state=0)\n",
    "X_pca = pca.fit_transform(azdias_subset1_encoded_imputed_ss)"
   ]
  },
  {
   "cell_type": "code",
   "execution_count": 129,
   "metadata": {},
   "outputs": [
    {
     "data": {
      "text/plain": [
       "<matplotlib.lines.Line2D at 0x1c9011c6760>"
      ]
     },
     "execution_count": 129,
     "metadata": {},
     "output_type": "execute_result"
    },
    {
     "data": {
      "image/png": "[encoded data removed]",
      "text/plain": [
       "<Figure size 1440x576 with 1 Axes>"
      ]
     },
     "metadata": {
      "needs_background": "light"
     },
     "output_type": "display_data"
    }
   ],
   "source": [
    "def scree_plot(pca):\n",
    "    '''\n",
    "    Creates a scree plot associated with the principal components \n",
    "    \n",
    "    INPUT: pca - the result of instantian of PCA in scikit learn\n",
    "            \n",
    "    OUTPUT:\n",
    "            None\n",
    "    '''\n",
    "    num_components = len(pca.explained_variance_ratio_)\n",
    "    ind = np.arange(1, num_components+1)\n",
    "    vals = pca.explained_variance_ratio_\n",
    "\n",
    "    plt.figure(figsize=(20, 8))\n",
    "    ax = plt.subplot(111)\n",
    "    ax.set_yscale('linear')\n",
    "    cumvals = np.cumsum(vals)\n",
    "    ax.bar(ind, vals)\n",
    "    ax.set_xticks(ind)\n",
    "    ax.plot(ind, cumvals)\n",
    "    for i in range(num_components):\n",
    "        val_str = '{:.2f}'.format(vals[i] * 100)\n",
    "        ax.annotate(\n",
    "            r\"%s%%\" % val_str,\n",
    "            (ind[i], vals[i] + 0.01),\n",
    "            va=\"bottom\",\n",
    "            ha=\"center\",\n",
    "            fontsize=12,\n",
    "            rotation=90)\n",
    "\n",
    "    ax.xaxis.set_tick_params(width=0)\n",
    "    ax.yaxis.set_tick_params(width=2, length=12)\n",
    "    \n",
    "    ax.set_xlabel(\"Principal Component\")\n",
    "    ax.set_ylabel(\"Variance Explained (%)\")\n",
    "    plt.title('Explained Variance Per Principal Component (using all features')\n",
    "\n",
    "# Investigate the variance accounted for by each principal component.\n",
    "scree_plot(pca)\n",
    "plt.axvline(x=3, color='r', linestyle='--')"
   ]
  },
  {
   "cell_type": "code",
   "execution_count": 130,
   "metadata": {},
   "outputs": [
    {
     "data": {
      "text/plain": [
       "<matplotlib.lines.Line2D at 0x1c90e0a34c0>"
      ]
     },
     "execution_count": 130,
     "metadata": {},
     "output_type": "execute_result"
    },
    {
     "data": {
      "image/png": "[encoded data removed]",
      "text/plain": [
       "<Figure size 1440x576 with 1 Axes>"
      ]
     },
     "metadata": {
      "needs_background": "light"
     },
     "output_type": "display_data"
    }
   ],
   "source": [
    "pca = PCA(10, random_state=0)\n",
    "X_pca = pca.fit_transform(azdias_subset1_encoded_imputed_ss)\n",
    "scree_plot(pca)\n",
    "plt.title('Explained Variance Per Principal Component (using 10 PCAs')\n",
    "plt.axvline(x=3, color='r', linestyle='--')"
   ]
  },
  {
   "cell_type": "code",
   "execution_count": 131,
   "metadata": {},
   "outputs": [],
   "source": [
    "# Re-apply PCA to the data while selecting for number of components to retain.\n",
    "pca_final = PCA(n_components=3, random_state=0) # percantage of variance to capture by components <--------\n",
    "X_pca_final = pca_final.fit_transform(azdias_subset1_encoded_imputed_ss)"
   ]
  },
  {
   "cell_type": "markdown",
   "metadata": {},
   "source": [
    "### Discussion 2.2: Perform Dimensionality Reduction\n",
    "\n",
    "I have tried modeling and clustering using 3 PCAs, 10 PCAs and using all PCA. Selecting 3 PCAs strikes a good balance between capturing enough variance and achieving good performance during modeling and clustering. In addition, clustering results were almost identical when selecting 10 PCAs vs 3 PCAs. Finally, if we look at the scree plots above we can see an elbow at third PCA, so I have decided to use 3 PCAs."
   ]
  },
  {
   "cell_type": "markdown",
   "metadata": {},
   "source": [
    "### Step 2.3: Interpret Principal Components\n",
    "\n",
    "Now that we have our transformed principal components, it's a nice idea to check out the weight of each variable on the first few components to see if they can be interpreted in some fashion.\n",
    "\n",
    "As a reminder, each principal component is a unit vector that points in the direction of highest variance (after accounting for the variance captured by earlier principal components). The further a weight is from zero, the more the principal component is in the direction of the corresponding feature. If two features have large weights of the same sign (both positive or both negative), then increases in one tend expect to be associated with increases in the other. To contrast, features with different signs can be expected to show a negative correlation: increases in one variable should result in a decrease in the other.\n",
    "\n",
    "- To investigate the features, you should map each weight to their corresponding feature name, then sort the features according to weight. The most interesting features for each principal component, then, will be those at the beginning and end of the sorted list. Use the data dictionary document to help you understand these most prominent features, their relationships, and what a positive or negative value on the principal component might indicate.\n",
    "- You should investigate and interpret feature associations from the first three principal components in this substep. To help facilitate this, you should write a function that you can call at any time to print the sorted list of feature weights, for the *i*-th principal component. This might come in handy in the next step of the project, when you interpret the tendencies of the discovered clusters."
   ]
  },
  {
   "cell_type": "code",
   "execution_count": 132,
   "metadata": {},
   "outputs": [],
   "source": [
    "def pca_results(full_dataset: pd.DataFrame, pca: PCA, component: int) -> dict:\n",
    "    '''\n",
    "    Create a DataFrame of the PCA results\n",
    "    Includes dimension feature weights and explained variance\n",
    "    '''\n",
    "\n",
    "    # Dimension indexing\n",
    "    dimensions = dimensions = ['Dimension {}'.format(i) for i in range(1,len(pca.components_)+1)]\n",
    "\n",
    "    # PCA components\n",
    "    components = pd.DataFrame(np.round(pca.components_, 4), columns = full_dataset.keys())\n",
    "    components.index = dimensions\n",
    "\n",
    "    # PCA explained variance\n",
    "    ratios = pca.explained_variance_ratio_.reshape(len(pca.components_), 1)\n",
    "    variance_ratios = pd.DataFrame(np.round(ratios, 4), columns = ['Explained Variance'])\n",
    "    variance_ratios.index = dimensions\n",
    "\n",
    "    # Return a concatenated DataFrame\n",
    "    df = pd.concat([variance_ratios, components], axis = 1)\n",
    "\n",
    "    s = df.iloc[component]\n",
    "\n",
    "    component_dict = {'Component_name': s.name, \n",
    "                    'Explained Variance': s[0],\n",
    "                    'Weights': s[1:].sort_values(ascending=False)}\n",
    "\n",
    "    return component_dict"
   ]
  },
  {
   "cell_type": "code",
   "execution_count": 133,
   "metadata": {},
   "outputs": [
    {
     "data": {
      "text/plain": [
       "{'Component_name': 'Dimension 1',\n",
       " 'Explained Variance': 0.1702,\n",
       " 'Weights': PLZ8_ANTG3            0.2298\n",
       " PLZ8_ANTG4            0.2227\n",
       " ORTSGR_KLS9           0.2027\n",
       " EWDICHTE              0.2009\n",
       " HH_EINKOMMEN_SCORE    0.2007\n",
       "                        ...  \n",
       " KBA05_GBZ            -0.2171\n",
       " FINANZ_MINIMALIST    -0.2183\n",
       " KBA05_ANTG1          -0.2232\n",
       " PLZ8_ANTG1           -0.2286\n",
       " MOBI_REGIO           -0.2429\n",
       " Name: Dimension 1, Length: 63, dtype: float64}"
      ]
     },
     "execution_count": 133,
     "metadata": {},
     "output_type": "execute_result"
    }
   ],
   "source": [
    "# Map weights for the first principal component to corresponding feature names\n",
    "# and then print the linked values, sorted by weight.\n",
    "# HINT: Try defining a function here or in a new cell that you can reuse in the\n",
    "# other cells.\n",
    "comp_0 = pca_results(azdias_subset1_encoded_imputed_ss, pca_final, 0)\n",
    "\n",
    "comp_0 # abs(comp_0['Weights']).sort_values(ascending=False)[:10]"
   ]
  },
  {
   "cell_type": "code",
   "execution_count": 134,
   "metadata": {},
   "outputs": [
    {
     "data": {
      "text/plain": [
       "{'Component_name': 'Dimension 2',\n",
       " 'Explained Variance': 0.1369,\n",
       " 'Weights': ALTERSKATEGORIE_GROB                0.2602\n",
       " FINANZ_VORSORGER                    0.2328\n",
       " SEMIO_ERL                           0.2306\n",
       " SEMIO_LUST                          0.1833\n",
       " RETOURTYP_BK_S                      0.1643\n",
       "                                      ...  \n",
       " SEMIO_PFLICHT                      -0.2289\n",
       " SEMIO_TRADV                        -0.2315\n",
       " FINANZ_SPARER                      -0.2355\n",
       " PRAEGENDE_JUGENDJAHRE_GENERATION   -0.2519\n",
       " SEMIO_REL                          -0.2549\n",
       " Name: Dimension 2, Length: 63, dtype: float64}"
      ]
     },
     "execution_count": 134,
     "metadata": {},
     "output_type": "execute_result"
    }
   ],
   "source": [
    "# Map weights for the second principal component to corresponding feature names\n",
    "# and then print the linked values, sorted by weight.\n",
    "\n",
    "comp_1 = pca_results(azdias_subset1_encoded_imputed_ss, pca_final, 1)\n",
    "\n",
    "comp_1"
   ]
  },
  {
   "cell_type": "code",
   "execution_count": 135,
   "metadata": {},
   "outputs": [
    {
     "data": {
      "text/plain": [
       "{'Component_name': 'Dimension 3',\n",
       " 'Explained Variance': 0.0959,\n",
       " 'Weights': SEMIO_VERT           0.3472\n",
       " SEMIO_SOZ            0.2630\n",
       " SEMIO_FAM            0.2501\n",
       " SEMIO_KULT           0.2345\n",
       " FINANZ_MINIMALIST    0.1577\n",
       "                       ...  \n",
       " SEMIO_RAT           -0.2190\n",
       " SEMIO_KRIT          -0.2746\n",
       " SEMIO_DOM           -0.3163\n",
       " SEMIO_KAEM          -0.3395\n",
       " ANREDE_KZ           -0.3702\n",
       " Name: Dimension 3, Length: 63, dtype: float64}"
      ]
     },
     "execution_count": 135,
     "metadata": {},
     "output_type": "execute_result"
    }
   ],
   "source": [
    "# Map weights for the third principal component to corresponding feature names\n",
    "# and then print the linked values, sorted by weight.\n",
    "\n",
    "comp_2 = pca_results(azdias_subset1_encoded_imputed_ss, pca_final, 2)\n",
    "\n",
    "comp_2"
   ]
  },
  {
   "cell_type": "markdown",
   "metadata": {},
   "source": [
    "### Discussion 2.3: Interpret Principal Components\n",
    "\n",
    "Looking at the three components above we can observe the following regarding the correlation between each of these components and the original features from the population dataset:\n",
    "- The first component has:\n",
    "    -  highest positive correlation with the following features:\n",
    "        - PLZ8_ANTG3 (Number of 6-10 family houses in the PLZ8 region)\n",
    "        - PLZ8_ANTG4 (Number of 10+ family houses in the PLZ8 region)\n",
    "        - ORTSGR_KLS9 (Size of community)\n",
    "    - highest negative correlation with the following features:\n",
    "        - MOBI_REGIO (Movement patterns)\n",
    "        - PLZ8_ANTG1 (Number of 1-2 family houses in the PLZ8 region)\n",
    "        - KBA05_ANTG1 (Number of 1-2 family houses in the microcell)\n",
    "    - In other words, the larger the community, with more crowded houses, low movement patterns, and low number of small households the bigger this component is.\n",
    "<br><br>\n",
    "- The second component has:\n",
    "    -  highest positive correlation with the following features:\n",
    "        - ALTERSKATEGORIE_GROB (Estimated age based on given name analysis)\n",
    "        - FINANZ_VORSORGER (Financial typology, for VORSORGER dimension)\n",
    "        - SEMIO_ERL (Personality typology, for ERL dimension)\n",
    "    - highest negative correlation with the following features:\n",
    "        - SEMIO_REL (Personality typology, for REL dimension)\n",
    "        - PRAEGENDE_JUGENDJAHRE_GENERATION (representing the generation 40s to 90s)\n",
    "        - FINANZ_SPARER (Financial typology, for SPARER dimension)\n",
    "    - This component represents the older population, with high financial provision, increase ERL, decreased REL, and low SPARER. \n",
    "<br><br>\n",
    "- The third component has:\n",
    "    -  highest positive correlation with the following features:\n",
    "        - SEMIO_VERT (Personality typology, for VERT dimension)\n",
    "        - SEMIO_SOZ (Personality typology, for SOZ dimension)\n",
    "        - SEMIO_FAM (Personality typology, for FAM dimension)\n",
    "    - highest negative correlation with the following features:\n",
    "        - ANREDE_KZ (Gender)\n",
    "        - SEMIO_KAEM (Personality typology, for KAEM dimension)\n",
    "        - SEMIO_DOM (Personality typology, for DOM dimension)\n",
    "    - This components can be viewed as representing males with lowest VERT, SOZ, and FAM affinity and high KAEM and DOM affinity"
   ]
  },
  {
   "cell_type": "markdown",
   "metadata": {},
   "source": [
    "## Step 3: Clustering\n",
    "\n",
    "### Step 3.1: Apply Clustering to General Population\n",
    "\n",
    "You've assessed and cleaned the demographics data, then scaled and transformed them. Now, it's time to see how the data clusters in the principal components space. In this substep, you will apply k-means clustering to the dataset and use the average within-cluster distances from each point to their assigned cluster's centroid to decide on a number of clusters to keep.\n",
    "\n",
    "- Use sklearn's [KMeans](http://scikit-learn.org/stable/modules/generated/sklearn.cluster.KMeans.html#sklearn.cluster.KMeans) class to perform k-means clustering on the PCA-transformed data.\n",
    "- Then, compute the average difference from each point to its assigned cluster's center. **Hint**: The KMeans object's `.score()` method might be useful here, but note that in sklearn, scores tend to be defined so that larger is better. Try applying it to a small, toy dataset, or use an internet search to help your understanding.\n",
    "- Perform the above two steps for a number of different cluster counts. You can then see how the average distance decreases with an increasing number of clusters. However, each additional cluster provides a smaller net benefit. Use this fact to select a final number of clusters in which to group the data. **Warning**: because of the large size of the dataset, it can take a long time for the algorithm to resolve. The more clusters to fit, the longer the algorithm will take. You should test for cluster counts through at least 10 clusters to get the full picture, but you shouldn't need to test for a number of clusters above about 30.\n",
    "- Once you've selected a final number of clusters to use, re-fit a KMeans instance to perform the clustering operation. Make sure that you also obtain the cluster assignments for the general demographics data, since you'll be using them in the final Step 3.3."
   ]
  },
  {
   "cell_type": "code",
   "execution_count": 136,
   "metadata": {},
   "outputs": [
    {
     "name": "stdout",
     "output_type": "stream",
     "text": [
      ".............."
     ]
    }
   ],
   "source": [
    "# Over a number of different cluster counts...\n",
    "# run k-means clustering on the data and... \n",
    "# compute the average within-cluster distances.\n",
    "from sklearn.cluster import KMeans\n",
    "\n",
    "max_num_clusters = 15\n",
    "\n",
    "num_clusters_list = range(2, max_num_clusters+1)\n",
    "\n",
    "scores = []\n",
    "for num_clusters in num_clusters_list:\n",
    "    kmeans = KMeans(num_clusters, random_state=0)\n",
    "    model = kmeans.fit(X_pca_final)\n",
    "    score = abs(model.score(X_pca_final))\n",
    "    scores.append(score)\n",
    "    print(\".\", end='')"
   ]
  },
  {
   "cell_type": "code",
   "execution_count": 137,
   "metadata": {},
   "outputs": [
    {
     "data": {
      "text/plain": [
       "<matplotlib.lines.Line2D at 0x1c90dff1d90>"
      ]
     },
     "execution_count": 137,
     "metadata": {},
     "output_type": "execute_result"
    },
    {
     "data": {
      "image/png": "[encoded data removed]",
      "text/plain": [
       "<Figure size 720x360 with 1 Axes>"
      ]
     },
     "metadata": {
      "needs_background": "light"
     },
     "output_type": "display_data"
    }
   ],
   "source": [
    "# Investigate the change in within-cluster distance across number of clusters.\n",
    "# HINT: Use matplotlib's plot function to visualize this relationship.\n",
    "plt.figure(figsize=(10, 5))\n",
    "plt.plot(num_clusters_list, scores, linestyle='--', marker='o', color='b')\n",
    "plt.xticks(num_clusters_list)\n",
    "plt.xlabel('K')\n",
    "plt.ylabel('SSE')\n",
    "plt.title('SSE vs. K')\n",
    "plt.axvline(x=8, color='r', linestyle='--')"
   ]
  },
  {
   "cell_type": "code",
   "execution_count": 138,
   "metadata": {},
   "outputs": [
    {
     "data": {
      "text/html": [
       "<div>\n",
       "<style scoped>\n",
       "    .dataframe tbody tr th:only-of-type {\n",
       "        vertical-align: middle;\n",
       "    }\n",
       "\n",
       "    .dataframe tbody tr th {\n",
       "        vertical-align: top;\n",
       "    }\n",
       "\n",
       "    .dataframe thead th {\n",
       "        text-align: right;\n",
       "    }\n",
       "</style>\n",
       "<table border=\"1\" class=\"dataframe\">\n",
       "  <thead>\n",
       "    <tr style=\"text-align: right;\">\n",
       "      <th></th>\n",
       "      <th>Dimension 1</th>\n",
       "      <th>Dimension 2</th>\n",
       "      <th>Dimension 3</th>\n",
       "    </tr>\n",
       "  </thead>\n",
       "  <tbody>\n",
       "    <tr>\n",
       "      <th>0</th>\n",
       "      <td>-1.034704</td>\n",
       "      <td>-4.503161</td>\n",
       "      <td>1.836879</td>\n",
       "    </tr>\n",
       "    <tr>\n",
       "      <th>1</th>\n",
       "      <td>4.279948</td>\n",
       "      <td>-1.022913</td>\n",
       "      <td>-2.569160</td>\n",
       "    </tr>\n",
       "    <tr>\n",
       "      <th>2</th>\n",
       "      <td>-3.329280</td>\n",
       "      <td>-0.049748</td>\n",
       "      <td>2.219180</td>\n",
       "    </tr>\n",
       "    <tr>\n",
       "      <th>3</th>\n",
       "      <td>-0.981362</td>\n",
       "      <td>-2.840167</td>\n",
       "      <td>-3.058573</td>\n",
       "    </tr>\n",
       "    <tr>\n",
       "      <th>4</th>\n",
       "      <td>1.920172</td>\n",
       "      <td>1.912594</td>\n",
       "      <td>2.829490</td>\n",
       "    </tr>\n",
       "    <tr>\n",
       "      <th>5</th>\n",
       "      <td>4.240243</td>\n",
       "      <td>-2.562283</td>\n",
       "      <td>2.440030</td>\n",
       "    </tr>\n",
       "    <tr>\n",
       "      <th>6</th>\n",
       "      <td>-3.400601</td>\n",
       "      <td>1.736314</td>\n",
       "      <td>-1.792575</td>\n",
       "    </tr>\n",
       "    <tr>\n",
       "      <th>7</th>\n",
       "      <td>1.688389</td>\n",
       "      <td>4.128425</td>\n",
       "      <td>-1.342814</td>\n",
       "    </tr>\n",
       "  </tbody>\n",
       "</table>\n",
       "</div>"
      ],
      "text/plain": [
       "   Dimension 1  Dimension 2  Dimension 3\n",
       "0    -1.034704    -4.503161     1.836879\n",
       "1     4.279948    -1.022913    -2.569160\n",
       "2    -3.329280    -0.049748     2.219180\n",
       "3    -0.981362    -2.840167    -3.058573\n",
       "4     1.920172     1.912594     2.829490\n",
       "5     4.240243    -2.562283     2.440030\n",
       "6    -3.400601     1.736314    -1.792575\n",
       "7     1.688389     4.128425    -1.342814"
      ]
     },
     "execution_count": 138,
     "metadata": {},
     "output_type": "execute_result"
    }
   ],
   "source": [
    "# Re-fit the k-means model with the selected number of clusters and obtain\n",
    "# cluster predictions for the general population demographics data.\n",
    "\n",
    "# As seen from the plot above, the optimal number of clusters is 8. This is where the elbow of the plot is.\n",
    "num_clusters_final = 8\n",
    "kmeans_model_final = KMeans(num_clusters_final, random_state=0).fit(X_pca_final)\n",
    "\n",
    "kmeans_fitting_labels_final = kmeans_model_final.labels_\n",
    "\n",
    "clusters_centers_df = pd.DataFrame(kmeans_model_final.cluster_centers_,\n",
    "                                   columns=[\"Dimension \" + str(i) for i in range(1, X_pca_final.shape[1]+1)])\n",
    "clusters_centers_df"
   ]
  },
  {
   "cell_type": "code",
   "execution_count": 139,
   "metadata": {},
   "outputs": [
    {
     "name": "stdout",
     "output_type": "stream",
     "text": [
      "[0 1 2 3 4 5 6 7] [ 69369  87939 131739  91676 101972  67293 126864 103301]\n"
     ]
    }
   ],
   "source": [
    "unique, counts = np.unique(kmeans_model_final.labels_, return_counts=True)\n",
    "\n",
    "print(unique, counts)"
   ]
  },
  {
   "cell_type": "code",
   "execution_count": 140,
   "metadata": {},
   "outputs": [
    {
     "data": {
      "text/html": [
       "<div>\n",
       "<style scoped>\n",
       "    .dataframe tbody tr th:only-of-type {\n",
       "        vertical-align: middle;\n",
       "    }\n",
       "\n",
       "    .dataframe tbody tr th {\n",
       "        vertical-align: top;\n",
       "    }\n",
       "\n",
       "    .dataframe thead th {\n",
       "        text-align: right;\n",
       "    }\n",
       "</style>\n",
       "<table border=\"1\" class=\"dataframe\">\n",
       "  <thead>\n",
       "    <tr style=\"text-align: right;\">\n",
       "      <th></th>\n",
       "      <th>Cluster</th>\n",
       "      <th>Count</th>\n",
       "    </tr>\n",
       "  </thead>\n",
       "  <tbody>\n",
       "    <tr>\n",
       "      <th>0</th>\n",
       "      <td>0</td>\n",
       "      <td>69369</td>\n",
       "    </tr>\n",
       "    <tr>\n",
       "      <th>1</th>\n",
       "      <td>1</td>\n",
       "      <td>87939</td>\n",
       "    </tr>\n",
       "    <tr>\n",
       "      <th>2</th>\n",
       "      <td>2</td>\n",
       "      <td>131739</td>\n",
       "    </tr>\n",
       "    <tr>\n",
       "      <th>3</th>\n",
       "      <td>3</td>\n",
       "      <td>91676</td>\n",
       "    </tr>\n",
       "    <tr>\n",
       "      <th>4</th>\n",
       "      <td>4</td>\n",
       "      <td>101972</td>\n",
       "    </tr>\n",
       "    <tr>\n",
       "      <th>5</th>\n",
       "      <td>5</td>\n",
       "      <td>67293</td>\n",
       "    </tr>\n",
       "    <tr>\n",
       "      <th>6</th>\n",
       "      <td>6</td>\n",
       "      <td>126864</td>\n",
       "    </tr>\n",
       "    <tr>\n",
       "      <th>7</th>\n",
       "      <td>7</td>\n",
       "      <td>103301</td>\n",
       "    </tr>\n",
       "    <tr>\n",
       "      <th>8</th>\n",
       "      <td>8</td>\n",
       "      <td>111068</td>\n",
       "    </tr>\n",
       "  </tbody>\n",
       "</table>\n",
       "</div>"
      ],
      "text/plain": [
       "   Cluster   Count\n",
       "0        0   69369\n",
       "1        1   87939\n",
       "2        2  131739\n",
       "3        3   91676\n",
       "4        4  101972\n",
       "5        5   67293\n",
       "6        6  126864\n",
       "7        7  103301\n",
       "8        8  111068"
      ]
     },
     "execution_count": 140,
     "metadata": {},
     "output_type": "execute_result"
    }
   ],
   "source": [
    "# append subset2 as own cluster\n",
    "unique = np.append(unique, len(unique))\n",
    "counts = np.append(counts, azdias_subset2.shape[0])\n",
    "\n",
    "azdias_clusters_df = pd.DataFrame({\"Cluster\": unique,\n",
    "                                  \"Count\": counts})\n",
    "\n",
    "azdias_clusters_df"
   ]
  },
  {
   "cell_type": "markdown",
   "metadata": {},
   "source": [
    "### Discussion 3.1: Apply Clustering to General Population\n",
    "\n",
    "As seen from the SSE vs K plot above, the optimal number of clusters for the general population dataset is 8. This is where the elbow of the plot can be seen. So our decision is to continue the analysis with 8 clusters for the general population data and the customer demographics data."
   ]
  },
  {
   "cell_type": "markdown",
   "metadata": {},
   "source": [
    "### Step 3.2: Apply All Steps to the Customer Data\n",
    "\n",
    "Now that you have clusters and cluster centers for the general population, it's time to see how the customer data maps on to those clusters. Take care to not confuse this for re-fitting all of the models to the customer data. Instead, you're going to use the fits from the general population to clean, transform, and cluster the customer data. In the last step of the project, you will interpret how the general population fits apply to the customer data.\n",
    "\n",
    "- Don't forget when loading in the customers data, that it is semicolon (`;`) delimited.\n",
    "- Apply the same feature wrangling, selection, and engineering steps to the customer demographics using the `clean_data()` function you created earlier. (You can assume that the customer demographics data has similar meaning behind missing data patterns as the general demographics data.)\n",
    "- Use the sklearn objects from the general demographics data, and apply their transformations to the customers data. That is, you should not be using a `.fit()` or `.fit_transform()` method to re-fit the old objects, nor should you be creating new sklearn objects! Carry the data through the feature scaling, PCA, and clustering steps, obtaining cluster assignments for all of the data in the customer demographics data."
   ]
  },
  {
   "cell_type": "code",
   "execution_count": 141,
   "metadata": {},
   "outputs": [
    {
     "data": {
      "text/plain": [
       "(191652, 85)"
      ]
     },
     "execution_count": 141,
     "metadata": {},
     "output_type": "execute_result"
    }
   ],
   "source": [
    "# Load in the customer demographics data.\n",
    "customers = pd.read_csv('./Udacity_CUSTOMERS_Subset.csv', delimiter=';')\n",
    "customers.shape"
   ]
  },
  {
   "cell_type": "code",
   "execution_count": null,
   "metadata": {},
   "outputs": [],
   "source": []
  },
  {
   "cell_type": "code",
   "execution_count": null,
   "metadata": {},
   "outputs": [],
   "source": []
  },
  {
   "cell_type": "code",
   "execution_count": null,
   "metadata": {},
   "outputs": [],
   "source": []
  },
  {
   "cell_type": "code",
   "execution_count": 142,
   "metadata": {},
   "outputs": [
    {
     "data": {
      "image/png": "[encoded data removed]",
      "text/plain": [
       "<Figure size 432x288 with 1 Axes>"
      ]
     },
     "metadata": {
      "needs_background": "light"
     },
     "output_type": "display_data"
    },
    {
     "name": "stderr",
     "output_type": "stream",
     "text": [
      "c:\\IDE\\Anaconda3\\envs\\python38\\lib\\site-packages\\pandas\\core\\indexing.py:1745: SettingWithCopyWarning: \n",
      "A value is trying to be set on a copy of a slice from a DataFrame.\n",
      "Try using .loc[row_indexer,col_indexer] = value instead\n",
      "\n",
      "See the caveats in the documentation: https://pandas.pydata.org/pandas-docs/stable/user_guide/indexing.html#returning-a-view-versus-a-copy\n",
      "  isetter(ilocs[0], value)\n"
     ]
    },
    {
     "name": "stdout",
     "output_type": "stream",
     "text": [
      "(139068, 63)\n",
      "[[    0  4022]\n",
      " [    1  1534]\n",
      " [    2 69425]\n",
      " [    3  2841]\n",
      " [    4 18234]\n",
      " [    5  1413]\n",
      " [    6 26697]\n",
      " [    7 14902]]\n"
     ]
    }
   ],
   "source": [
    "# Apply preprocessing, feature transformation, and clustering from the general\n",
    "# demographics onto the customer data, obtaining cluster predictions for the\n",
    "# customer demographics data.\n",
    "customers_subset1_encoded, customers_subset2 = clean_data(customers)\n",
    "\n",
    "if impute:\n",
    "    customers_subset1_encoded_imp = imp_median.transform(customers_subset1_encoded)\n",
    "else:\n",
    "    customers_subset1_encoded_imp = remove_rows_with_missing_values(customers_subset1_encoded)\n",
    "\n",
    "customers_subset1_encoded_imp_ss = ss.transform(customers_subset1_encoded_imp)\n",
    "customers_subset1_encoded_imp_ss = pd.DataFrame(customers_subset1_encoded_imp_ss, columns=customers_subset1_encoded.columns)\n",
    "print(customers_subset1_encoded_imp_ss.shape)\n",
    "\n",
    "X_customers_pca = pca_final.transform(customers_subset1_encoded_imp_ss)\n",
    "\n",
    "customers_clusters_lables = kmeans_model_final.predict(X_customers_pca)\n",
    "\n",
    "unique, counts = np.unique(customers_clusters_lables, return_counts=True)\n",
    "\n",
    "result = np.column_stack((unique, counts)) \n",
    "print(result)"
   ]
  },
  {
   "cell_type": "code",
   "execution_count": 143,
   "metadata": {},
   "outputs": [
    {
     "data": {
      "text/html": [
       "<div>\n",
       "<style scoped>\n",
       "    .dataframe tbody tr th:only-of-type {\n",
       "        vertical-align: middle;\n",
       "    }\n",
       "\n",
       "    .dataframe tbody tr th {\n",
       "        vertical-align: top;\n",
       "    }\n",
       "\n",
       "    .dataframe thead th {\n",
       "        text-align: right;\n",
       "    }\n",
       "</style>\n",
       "<table border=\"1\" class=\"dataframe\">\n",
       "  <thead>\n",
       "    <tr style=\"text-align: right;\">\n",
       "      <th></th>\n",
       "      <th>Cluster</th>\n",
       "      <th>Count</th>\n",
       "    </tr>\n",
       "  </thead>\n",
       "  <tbody>\n",
       "    <tr>\n",
       "      <th>0</th>\n",
       "      <td>0</td>\n",
       "      <td>4022</td>\n",
       "    </tr>\n",
       "    <tr>\n",
       "      <th>1</th>\n",
       "      <td>1</td>\n",
       "      <td>1534</td>\n",
       "    </tr>\n",
       "    <tr>\n",
       "      <th>2</th>\n",
       "      <td>2</td>\n",
       "      <td>69425</td>\n",
       "    </tr>\n",
       "    <tr>\n",
       "      <th>3</th>\n",
       "      <td>3</td>\n",
       "      <td>2841</td>\n",
       "    </tr>\n",
       "    <tr>\n",
       "      <th>4</th>\n",
       "      <td>4</td>\n",
       "      <td>18234</td>\n",
       "    </tr>\n",
       "    <tr>\n",
       "      <th>5</th>\n",
       "      <td>5</td>\n",
       "      <td>1413</td>\n",
       "    </tr>\n",
       "    <tr>\n",
       "      <th>6</th>\n",
       "      <td>6</td>\n",
       "      <td>26697</td>\n",
       "    </tr>\n",
       "    <tr>\n",
       "      <th>7</th>\n",
       "      <td>7</td>\n",
       "      <td>14902</td>\n",
       "    </tr>\n",
       "    <tr>\n",
       "      <th>8</th>\n",
       "      <td>8</td>\n",
       "      <td>52584</td>\n",
       "    </tr>\n",
       "  </tbody>\n",
       "</table>\n",
       "</div>"
      ],
      "text/plain": [
       "   Cluster  Count\n",
       "0        0   4022\n",
       "1        1   1534\n",
       "2        2  69425\n",
       "3        3   2841\n",
       "4        4  18234\n",
       "5        5   1413\n",
       "6        6  26697\n",
       "7        7  14902\n",
       "8        8  52584"
      ]
     },
     "execution_count": 143,
     "metadata": {},
     "output_type": "execute_result"
    }
   ],
   "source": [
    "# append subset2 as own cluster\n",
    "unique = np.append(unique, len(unique))\n",
    "counts = np.append(counts, customers_subset2.shape[0])\n",
    "\n",
    "customers_clusters_df = pd.DataFrame({\"Cluster\": unique,\n",
    "                                  \"Count\": counts})\n",
    "\n",
    "customers_clusters_df"
   ]
  },
  {
   "cell_type": "markdown",
   "metadata": {},
   "source": [
    "### Step 3.3: Compare Customer Data to Demographics Data\n",
    "\n",
    "At this point, you have clustered data based on demographics of the general population of Germany, and seen how the customer data for a mail-order sales company maps onto those demographic clusters. In this final substep, you will compare the two cluster distributions to see where the strongest customer base for the company is.\n",
    "\n",
    "Consider the proportion of persons in each cluster for the general population, and the proportions for the customers. If we think the company's customer base to be universal, then the cluster assignment proportions should be fairly similar between the two. If there are only particular segments of the population that are interested in the company's products, then we should see a mismatch from one to the other. If there is a higher proportion of persons in a cluster for the customer data compared to the general population (e.g. 5% of persons are assigned to a cluster for the general population, but 15% of the customer data is closest to that cluster's centroid) then that suggests the people in that cluster to be a target audience for the company. On the other hand, the proportion of the data in a cluster being larger in the general population than the customer data (e.g. only 2% of customers closest to a population centroid that captures 6% of the data) suggests that group of persons to be outside of the target demographics.\n",
    "\n",
    "Take a look at the following points in this step:\n",
    "\n",
    "- Compute the proportion of data points in each cluster for the general population and the customer data. Visualizations will be useful here: both for the individual dataset proportions, but also to visualize the ratios in cluster representation between groups. Seaborn's [`countplot()`](https://seaborn.pydata.org/generated/seaborn.countplot.html) or [`barplot()`](https://seaborn.pydata.org/generated/seaborn.barplot.html) function could be handy.\n",
    "  - Recall the analysis you performed in step 1.1.3 of the project, where you separated out certain data points from the dataset if they had more than a specified threshold of missing values. If you found that this group was qualitatively different from the main bulk of the data, you should treat this as an additional data cluster in this analysis. Make sure that you account for the number of data points in this subset, for both the general population and customer datasets, when making your computations!\n",
    "- Which cluster or clusters are overrepresented in the customer dataset compared to the general population? Select at least one such cluster and infer what kind of people might be represented by that cluster. Use the principal component interpretations from step 2.3 or look at additional components to help you make this inference. Alternatively, you can use the `.inverse_transform()` method of the PCA and StandardScaler objects to transform centroids back to the original data space and interpret the retrieved values directly.\n",
    "- Perform a similar investigation for the underrepresented clusters. Which cluster or clusters are underrepresented in the customer dataset compared to the general population, and what kinds of people are typified by these clusters?"
   ]
  },
  {
   "cell_type": "code",
   "execution_count": 144,
   "metadata": {},
   "outputs": [
    {
     "data": {
      "text/html": [
       "<div>\n",
       "<style scoped>\n",
       "    .dataframe tbody tr th:only-of-type {\n",
       "        vertical-align: middle;\n",
       "    }\n",
       "\n",
       "    .dataframe tbody tr th {\n",
       "        vertical-align: top;\n",
       "    }\n",
       "\n",
       "    .dataframe thead th {\n",
       "        text-align: right;\n",
       "    }\n",
       "</style>\n",
       "<table border=\"1\" class=\"dataframe\">\n",
       "  <thead>\n",
       "    <tr style=\"text-align: right;\">\n",
       "      <th></th>\n",
       "      <th>Cluster</th>\n",
       "      <th>Count</th>\n",
       "      <th>Dataset</th>\n",
       "    </tr>\n",
       "  </thead>\n",
       "  <tbody>\n",
       "    <tr>\n",
       "      <th>0</th>\n",
       "      <td>0</td>\n",
       "      <td>69369</td>\n",
       "      <td>Population</td>\n",
       "    </tr>\n",
       "    <tr>\n",
       "      <th>1</th>\n",
       "      <td>1</td>\n",
       "      <td>87939</td>\n",
       "      <td>Population</td>\n",
       "    </tr>\n",
       "    <tr>\n",
       "      <th>2</th>\n",
       "      <td>2</td>\n",
       "      <td>131739</td>\n",
       "      <td>Population</td>\n",
       "    </tr>\n",
       "    <tr>\n",
       "      <th>3</th>\n",
       "      <td>3</td>\n",
       "      <td>91676</td>\n",
       "      <td>Population</td>\n",
       "    </tr>\n",
       "    <tr>\n",
       "      <th>4</th>\n",
       "      <td>4</td>\n",
       "      <td>101972</td>\n",
       "      <td>Population</td>\n",
       "    </tr>\n",
       "    <tr>\n",
       "      <th>5</th>\n",
       "      <td>5</td>\n",
       "      <td>67293</td>\n",
       "      <td>Population</td>\n",
       "    </tr>\n",
       "    <tr>\n",
       "      <th>6</th>\n",
       "      <td>6</td>\n",
       "      <td>126864</td>\n",
       "      <td>Population</td>\n",
       "    </tr>\n",
       "    <tr>\n",
       "      <th>7</th>\n",
       "      <td>7</td>\n",
       "      <td>103301</td>\n",
       "      <td>Population</td>\n",
       "    </tr>\n",
       "    <tr>\n",
       "      <th>8</th>\n",
       "      <td>8</td>\n",
       "      <td>111068</td>\n",
       "      <td>Population</td>\n",
       "    </tr>\n",
       "    <tr>\n",
       "      <th>9</th>\n",
       "      <td>0</td>\n",
       "      <td>4022</td>\n",
       "      <td>Customers</td>\n",
       "    </tr>\n",
       "    <tr>\n",
       "      <th>10</th>\n",
       "      <td>1</td>\n",
       "      <td>1534</td>\n",
       "      <td>Customers</td>\n",
       "    </tr>\n",
       "    <tr>\n",
       "      <th>11</th>\n",
       "      <td>2</td>\n",
       "      <td>69425</td>\n",
       "      <td>Customers</td>\n",
       "    </tr>\n",
       "    <tr>\n",
       "      <th>12</th>\n",
       "      <td>3</td>\n",
       "      <td>2841</td>\n",
       "      <td>Customers</td>\n",
       "    </tr>\n",
       "    <tr>\n",
       "      <th>13</th>\n",
       "      <td>4</td>\n",
       "      <td>18234</td>\n",
       "      <td>Customers</td>\n",
       "    </tr>\n",
       "    <tr>\n",
       "      <th>14</th>\n",
       "      <td>5</td>\n",
       "      <td>1413</td>\n",
       "      <td>Customers</td>\n",
       "    </tr>\n",
       "    <tr>\n",
       "      <th>15</th>\n",
       "      <td>6</td>\n",
       "      <td>26697</td>\n",
       "      <td>Customers</td>\n",
       "    </tr>\n",
       "    <tr>\n",
       "      <th>16</th>\n",
       "      <td>7</td>\n",
       "      <td>14902</td>\n",
       "      <td>Customers</td>\n",
       "    </tr>\n",
       "    <tr>\n",
       "      <th>17</th>\n",
       "      <td>8</td>\n",
       "      <td>52584</td>\n",
       "      <td>Customers</td>\n",
       "    </tr>\n",
       "  </tbody>\n",
       "</table>\n",
       "</div>"
      ],
      "text/plain": [
       "    Cluster   Count     Dataset\n",
       "0         0   69369  Population\n",
       "1         1   87939  Population\n",
       "2         2  131739  Population\n",
       "3         3   91676  Population\n",
       "4         4  101972  Population\n",
       "5         5   67293  Population\n",
       "6         6  126864  Population\n",
       "7         7  103301  Population\n",
       "8         8  111068  Population\n",
       "9         0    4022   Customers\n",
       "10        1    1534   Customers\n",
       "11        2   69425   Customers\n",
       "12        3    2841   Customers\n",
       "13        4   18234   Customers\n",
       "14        5    1413   Customers\n",
       "15        6   26697   Customers\n",
       "16        7   14902   Customers\n",
       "17        8   52584   Customers"
      ]
     },
     "execution_count": 144,
     "metadata": {},
     "output_type": "execute_result"
    }
   ],
   "source": [
    "# Compare the proportion of data in each cluster for the customer data to the\n",
    "# proportion of data in each cluster for the general population.\n",
    "\n",
    "combined_df = pd.concat([azdias_clusters_df, customers_clusters_df], axis=0).reset_index(drop=True)\n",
    "combined_df.columns = ['Cluster', 'Count']\n",
    "combined_df['Dataset'] = ['Population'] * azdias_clusters_df.shape[0] + ['Customers'] * azdias_clusters_df.shape[0]\n",
    "combined_df"
   ]
  },
  {
   "cell_type": "code",
   "execution_count": 145,
   "metadata": {},
   "outputs": [
    {
     "data": {
      "text/plain": [
       "Text(0.5, 1.0, 'Percentage of individuals in each cluster by dataset')"
      ]
     },
     "execution_count": 145,
     "metadata": {},
     "output_type": "execute_result"
    },
    {
     "data": {
      "image/png": "[encoded data removed]",
      "text/plain": [
       "<Figure size 720x360 with 1 Axes>"
      ]
     },
     "metadata": {
      "needs_background": "light"
     },
     "output_type": "display_data"
    }
   ],
   "source": [
    "combined_df['Percentage'] = combined_df.groupby('Dataset')['Count'].transform(lambda x: x / x.sum() * 100)\n",
    "\n",
    "plt.figure(figsize=(10, 5))\n",
    "ax = sns.barplot(x='Cluster', y='Percentage', hue='Dataset', data=combined_df)\n",
    "\n",
    "ax.set_yticks([0, 10, 20, 30, 40, 50, 60, 70])\n",
    "\n",
    "# For each bar in the chart, add a text label.\n",
    "for bar in ax.patches:\n",
    "  # The text annotation for each bar should be its height.\n",
    "  bar_value = bar.get_height()\n",
    "  # Format the text with commas to separate thousands. You can do\n",
    "  # any type of formatting here though.\n",
    "  text = f'{bar_value:.0f}%'\n",
    "  # This will give the middle of each bar on the x-axis.\n",
    "  text_x = bar.get_x() + bar.get_width() / 2\n",
    "  # get_y() is where the bar starts so we add the height to it.\n",
    "  text_y = bar.get_y() + bar_value\n",
    "  # If we want the text to be the same color as the bar, we can\n",
    "  # get the color like so:\n",
    "  bar_color = bar.get_facecolor()\n",
    "  # If you want a consistent color, you can just set it as a constant, e.g. #222222\n",
    "  ax.text(text_x, text_y, text, ha='center', va='bottom', color=bar_color,\n",
    "          size=12)\n",
    "  \n",
    "plt.title(\"Percentage of individuals in each cluster by dataset\")"
   ]
  },
  {
   "cell_type": "code",
   "execution_count": 149,
   "metadata": {},
   "outputs": [],
   "source": [
    "X_azdias_subset1_ss = pca_final.inverse_transform(X_pca_final)\n",
    "\n",
    "X_azdias_subset1_encoded = ss.inverse_transform(X_azdias_subset1_ss)\n",
    "\n",
    "X_azdias_subset1_encoded.shape\n",
    "\n",
    "X_azidais_subset1_df = pd.DataFrame(X_azdias_subset1_encoded, columns=azdias_subset1_encoded.columns.copy())\n",
    "\n",
    "X_azidais_subset1_df['Cluster'] = kmeans_fitting_labels_final"
   ]
  },
  {
   "cell_type": "code",
   "execution_count": 150,
   "metadata": {},
   "outputs": [
    {
     "data": {
      "text/plain": [
       "ALTERSKATEGORIE_GROB                1.800192\n",
       "ANREDE_KZ                           1.963617\n",
       "FINANZ_MINIMALIST                   1.108106\n",
       "FINANZ_SPARER                       4.404178\n",
       "FINANZ_VORSORGER                    2.083182\n",
       "                                      ...   \n",
       "ORTSGR_KLS9                         6.849457\n",
       "RELAT_AB                            3.692998\n",
       "PRAEGENDE_JUGENDJAHRE_GENERATION    5.691545\n",
       "CAMEO_INTL_2015_HOUSEHOLD           1.634875\n",
       "CAMEO_INTL_2015_FAMILY              2.103079\n",
       "Name: 1, Length: 63, dtype: float64"
      ]
     },
     "execution_count": 150,
     "metadata": {},
     "output_type": "execute_result"
    }
   ],
   "source": [
    "# What kinds of people are part of a cluster that is overrepresented in the\n",
    "# customer data compared to the general population?\n",
    "\n",
    "# Cluster 1 is the most overrepresented in the customer data. Profile of people in it is on average as follows:\n",
    "X_azidais_subset1_df.groupby('Cluster').mean().iloc[1]"
   ]
  },
  {
   "cell_type": "code",
   "execution_count": 151,
   "metadata": {},
   "outputs": [
    {
     "data": {
      "text/plain": [
       "ALTERSKATEGORIE_GROB                3.369102\n",
       "ANREDE_KZ                           1.098246\n",
       "FINANZ_MINIMALIST                   4.529594\n",
       "FINANZ_SPARER                       1.656244\n",
       "FINANZ_VORSORGER                    4.253546\n",
       "                                      ...   \n",
       "ORTSGR_KLS9                         3.952904\n",
       "RELAT_AB                            2.536967\n",
       "PRAEGENDE_JUGENDJAHRE_GENERATION    3.511486\n",
       "CAMEO_INTL_2015_HOUSEHOLD           3.647190\n",
       "CAMEO_INTL_2015_FAMILY              3.462081\n",
       "Name: 2, Length: 63, dtype: float64"
      ]
     },
     "execution_count": 151,
     "metadata": {},
     "output_type": "execute_result"
    }
   ],
   "source": [
    "# What kinds of people are part of a cluster that is underrepresented in the\n",
    "# customer data compared to the general population?\n",
    "\n",
    "# Clusters 2, and 3 are the most underrepresented in the customer data compared to population data. Kinds of people in cluster 2 are:\n",
    "X_azidais_subset1_df.groupby('Cluster').mean().iloc[2]"
   ]
  },
  {
   "cell_type": "markdown",
   "metadata": {},
   "source": [
    "### Discussion 3.3: Compare Customer Data to Demographics Data\n",
    "\n",
    "(Double-click this cell and replace this text with your own text, reporting findings and conclusions from the clustering analysis. Can we describe segments of the population that are relatively popular with the mail-order company, or relatively unpopular with the company?)"
   ]
  },
  {
   "cell_type": "markdown",
   "metadata": {},
   "source": [
    "> Congratulations on making it this far in the project! Before you finish, make sure to check through the entire notebook from top to bottom to make sure that your analysis follows a logical flow and all of your findings are documented in **Discussion** cells. Once you've checked over all of your work, you should export the notebook as an HTML document to submit for evaluation. You can do this from the menu, navigating to **File -> Download as -> HTML (.html)**. You will submit both that document and this notebook for your project submission."
   ]
  },
  {
   "cell_type": "code",
   "execution_count": null,
   "metadata": {},
   "outputs": [],
   "source": []
  }
 ],
 "metadata": {
  "kernelspec": {
   "display_name": "Python 3 (ipykernel)",
   "language": "python",
   "name": "python3"
  },
  "language_info": {
   "codemirror_mode": {
    "name": "ipython",
    "version": 3
   },
   "file_extension": ".py",
   "mimetype": "text/x-python",
   "name": "python",
   "nbconvert_exporter": "python",
   "pygments_lexer": "ipython3",
   "version": "3.8.5"
  },
  "vscode": {
   "interpreter": {
    "hash": "89e309909a5800c92076e20481ad5e93d84f7e2c7ee11b69c754bf90c5c321af"
   }
  }
 },
 "nbformat": 4,
 "nbformat_minor": 4
}
